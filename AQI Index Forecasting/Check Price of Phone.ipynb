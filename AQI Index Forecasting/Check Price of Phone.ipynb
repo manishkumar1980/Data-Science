{
 "cells": [
  {
   "cell_type": "code",
   "execution_count": 100,
   "metadata": {},
   "outputs": [],
   "source": [
    "import requests\n",
    "import sys\n",
    "from bs4 import BeautifulSoup as bs\n",
    "import pandas as pd\n",
    "import datetime\n",
    "import os"
   ]
  },
  {
   "cell_type": "code",
   "execution_count": 10,
   "metadata": {},
   "outputs": [],
   "source": [
    "url='https://www.flipkart.com/search?q=iphone+xr+64&sid=tyy%2C4io&as=on&as-show=on&otracker=AS_QueryStore_OrganicAutoSuggest_0_8_na_na_pr&otracker1=AS_QueryStore_OrganicAutoSuggest_0_8_na_na_pr&as-pos=0&as-type=RECENT&suggestionId=iphone+xr+64%7Cin+Mobiles&requestId=8974a789-0466-49ca-83cc-c64a92ab0a7d&as-searchtext=iPhone%20X'"
   ]
  },
  {
   "cell_type": "code",
   "execution_count": 11,
   "metadata": {},
   "outputs": [],
   "source": [
    "page=requests.get(url)"
   ]
  },
  {
   "cell_type": "code",
   "execution_count": 111,
   "metadata": {},
   "outputs": [
    {
     "name": "stdout",
     "output_type": "stream",
     "text": [
      "2019-12-05 11:43:20.336284\n",
      "                              Phone Name   Price                  Date Time\n",
      "0         Apple iPhone XR (White, 64 GB)  47,900 2019-12-05 11:43:20.336284\n",
      "1         Apple iPhone XR (Black, 64 GB)  49,899 2019-12-05 11:43:20.336284\n",
      "2         Apple iPhone XR (Coral, 64 GB)  47,900 2019-12-05 11:43:20.336284\n",
      "3  Apple iPhone XR ((PRODUCT)RED, 64 GB)  49,900 2019-12-05 11:43:20.336284\n",
      "4          Apple iPhone XR (Blue, 64 GB)  49,900 2019-12-05 11:43:20.336284\n",
      "5        Apple iPhone XR (Yellow, 64 GB)  54,999 2019-12-05 11:43:20.336284\n"
     ]
    }
   ],
   "source": [
    "soup=bs(page.content,'html.parser')\n",
    "\n",
    "phone_names=soup.find_all('div',{'class':'_3wU53n'})\n",
    "phone_prices=soup.find_all('div',{'class':'_1vC4OE _2rQ-NK'})\n",
    "\n",
    "df=pd.DataFrame()\n",
    "phones=[]\n",
    "prices=[]\n",
    "\n",
    "\n",
    "for phone in phone_names:\n",
    "    phones.append(phone.text)\n",
    "    \n",
    "for price in phone_prices:\n",
    "    prices.append(price.text[1:])\n",
    "\n",
    "   \n",
    "date=datetime.datetime.today()\n",
    "print(date)\n",
    "    \n",
    "df['Phone Name']=phones\n",
    "df['Price']=prices\n",
    "df['Date Time']=date\n",
    "\n",
    "print(df)\n",
    "\n",
    "if os.path.isfile('Phone_Details.csv'):\n",
    "    with open('Phone_Details.csv','a',newline='') as file:\n",
    "        df.to_csv(file,header=False, index=False)\n",
    "else:\n",
    "    with open('Phone_Details.csv','a',newline='') as file:\n",
    "        df.to_csv(file,header=True, index=False)"
   ]
  }
 ],
 "metadata": {
  "kernelspec": {
   "display_name": "Python 3",
   "language": "python",
   "name": "python3"
  },
  "language_info": {
   "codemirror_mode": {
    "name": "ipython",
    "version": 3
   },
   "file_extension": ".py",
   "mimetype": "text/x-python",
   "name": "python",
   "nbconvert_exporter": "python",
   "pygments_lexer": "ipython3",
   "version": "3.7.4"
  }
 },
 "nbformat": 4,
 "nbformat_minor": 2
}
