{
 "cells": [
  {
   "cell_type": "code",
   "execution_count": 23,
   "metadata": {},
   "outputs": [],
   "source": [
    "import os\n",
    "import pandas as pd\n",
    "import numpy as np\n",
    "import matplotlib.pyplot as plt\n",
    "import csv\n",
    "import math"
   ]
  },
  {
   "cell_type": "code",
   "execution_count": 24,
   "metadata": {},
   "outputs": [],
   "source": [
    "os.chdir(\"C:\\\\Users\\\\Manish Kumar\\\\Documents\\\\Git-Repository\\\\Data-Science\\\\Height-Weight-Regression-Problem\")\n",
    "df=pd.read_csv('data.csv')"
   ]
  },
  {
   "cell_type": "code",
   "execution_count": 25,
   "metadata": {},
   "outputs": [
    {
     "name": "stdout",
     "output_type": "stream",
     "text": [
      "<class 'pandas.core.frame.DataFrame'>\n",
      "RangeIndex: 25000 entries, 0 to 24999\n",
      "Data columns (total 3 columns):\n",
      "Index             25000 non-null int64\n",
      "Height(Inches)    25000 non-null float64\n",
      "Weight(Pounds)    25000 non-null float64\n",
      "dtypes: float64(2), int64(1)\n",
      "memory usage: 586.1 KB\n"
     ]
    }
   ],
   "source": [
    "df.info()"
   ]
  },
  {
   "cell_type": "code",
   "execution_count": 26,
   "metadata": {},
   "outputs": [
    {
     "data": {
      "text/html": [
       "<div>\n",
       "<style scoped>\n",
       "    .dataframe tbody tr th:only-of-type {\n",
       "        vertical-align: middle;\n",
       "    }\n",
       "\n",
       "    .dataframe tbody tr th {\n",
       "        vertical-align: top;\n",
       "    }\n",
       "\n",
       "    .dataframe thead th {\n",
       "        text-align: right;\n",
       "    }\n",
       "</style>\n",
       "<table border=\"1\" class=\"dataframe\">\n",
       "  <thead>\n",
       "    <tr style=\"text-align: right;\">\n",
       "      <th></th>\n",
       "      <th>Index</th>\n",
       "      <th>Height(Inches)</th>\n",
       "      <th>Weight(Pounds)</th>\n",
       "    </tr>\n",
       "  </thead>\n",
       "  <tbody>\n",
       "    <tr>\n",
       "      <td>0</td>\n",
       "      <td>1</td>\n",
       "      <td>65.78331</td>\n",
       "      <td>112.9925</td>\n",
       "    </tr>\n",
       "    <tr>\n",
       "      <td>1</td>\n",
       "      <td>2</td>\n",
       "      <td>71.51521</td>\n",
       "      <td>136.4873</td>\n",
       "    </tr>\n",
       "    <tr>\n",
       "      <td>2</td>\n",
       "      <td>3</td>\n",
       "      <td>69.39874</td>\n",
       "      <td>153.0269</td>\n",
       "    </tr>\n",
       "    <tr>\n",
       "      <td>3</td>\n",
       "      <td>4</td>\n",
       "      <td>68.21660</td>\n",
       "      <td>142.3354</td>\n",
       "    </tr>\n",
       "    <tr>\n",
       "      <td>4</td>\n",
       "      <td>5</td>\n",
       "      <td>67.78781</td>\n",
       "      <td>144.2971</td>\n",
       "    </tr>\n",
       "  </tbody>\n",
       "</table>\n",
       "</div>"
      ],
      "text/plain": [
       "   Index  Height(Inches)  Weight(Pounds)\n",
       "0      1        65.78331        112.9925\n",
       "1      2        71.51521        136.4873\n",
       "2      3        69.39874        153.0269\n",
       "3      4        68.21660        142.3354\n",
       "4      5        67.78781        144.2971"
      ]
     },
     "execution_count": 26,
     "metadata": {},
     "output_type": "execute_result"
    }
   ],
   "source": [
    "df.head()"
   ]
  },
  {
   "cell_type": "code",
   "execution_count": 27,
   "metadata": {},
   "outputs": [],
   "source": [
    "df=df.iloc[:,1:]\n",
    "#df.head()"
   ]
  },
  {
   "cell_type": "code",
   "execution_count": 28,
   "metadata": {},
   "outputs": [
    {
     "data": {
      "text/html": [
       "<div>\n",
       "<style scoped>\n",
       "    .dataframe tbody tr th:only-of-type {\n",
       "        vertical-align: middle;\n",
       "    }\n",
       "\n",
       "    .dataframe tbody tr th {\n",
       "        vertical-align: top;\n",
       "    }\n",
       "\n",
       "    .dataframe thead th {\n",
       "        text-align: right;\n",
       "    }\n",
       "</style>\n",
       "<table border=\"1\" class=\"dataframe\">\n",
       "  <thead>\n",
       "    <tr style=\"text-align: right;\">\n",
       "      <th></th>\n",
       "      <th>Height(Inches)</th>\n",
       "      <th>Weight(Pounds)</th>\n",
       "    </tr>\n",
       "  </thead>\n",
       "  <tbody>\n",
       "    <tr>\n",
       "      <td>count</td>\n",
       "      <td>25000.000000</td>\n",
       "      <td>25000.000000</td>\n",
       "    </tr>\n",
       "    <tr>\n",
       "      <td>mean</td>\n",
       "      <td>67.993114</td>\n",
       "      <td>127.079421</td>\n",
       "    </tr>\n",
       "    <tr>\n",
       "      <td>std</td>\n",
       "      <td>1.901679</td>\n",
       "      <td>11.660898</td>\n",
       "    </tr>\n",
       "    <tr>\n",
       "      <td>min</td>\n",
       "      <td>60.278360</td>\n",
       "      <td>78.014760</td>\n",
       "    </tr>\n",
       "    <tr>\n",
       "      <td>25%</td>\n",
       "      <td>66.704397</td>\n",
       "      <td>119.308675</td>\n",
       "    </tr>\n",
       "    <tr>\n",
       "      <td>50%</td>\n",
       "      <td>67.995700</td>\n",
       "      <td>127.157750</td>\n",
       "    </tr>\n",
       "    <tr>\n",
       "      <td>75%</td>\n",
       "      <td>69.272958</td>\n",
       "      <td>134.892850</td>\n",
       "    </tr>\n",
       "    <tr>\n",
       "      <td>max</td>\n",
       "      <td>75.152800</td>\n",
       "      <td>170.924000</td>\n",
       "    </tr>\n",
       "  </tbody>\n",
       "</table>\n",
       "</div>"
      ],
      "text/plain": [
       "       Height(Inches)  Weight(Pounds)\n",
       "count    25000.000000    25000.000000\n",
       "mean        67.993114      127.079421\n",
       "std          1.901679       11.660898\n",
       "min         60.278360       78.014760\n",
       "25%         66.704397      119.308675\n",
       "50%         67.995700      127.157750\n",
       "75%         69.272958      134.892850\n",
       "max         75.152800      170.924000"
      ]
     },
     "execution_count": 28,
     "metadata": {},
     "output_type": "execute_result"
    }
   ],
   "source": [
    "df.describe()"
   ]
  },
  {
   "cell_type": "code",
   "execution_count": 29,
   "metadata": {},
   "outputs": [],
   "source": [
    "#Function to draw Histogram and Blxplot for all Measures and Bar Graph for all the Dimensions\n",
    "\n",
    "def analyze_data (df):\n",
    "    import pandas as pd\n",
    "    import numpy as np\n",
    "    import matplotlib.pyplot as plt\n",
    "    import seaborn as sns\n",
    "    \n",
    "\n",
    "    for i in list (df.columns):\n",
    "        #Histogram and #BoxPlot\n",
    "        if (df[i].dtype in ['float64','int64']):\n",
    "            df.hist(column=i,grid=False,figsize=(10,8))\n",
    "            plt.savefig(str(i)+\"_histogram.png\")\n",
    "        #Box Plot\n",
    "            df.boxplot(column=i,grid=False,figsize=(10,8))\n",
    "            plt.savefig(str(i)+\"_boxplot.png\")\n",
    "        else:\n",
    "        #Bar Graph\n",
    "            sns.countplot(df[i])\n",
    "            plt.savefig(str(i)+\"_bar_graph.png\")\n",
    "        plt.show()"
   ]
  },
  {
   "cell_type": "code",
   "execution_count": 30,
   "metadata": {},
   "outputs": [],
   "source": [
    "#Creating the summary file\n",
    "\n",
    "def count_nulls_outliers(df):\n",
    "    x=df[df.columns].describe(include='all')\n",
    "    x.to_csv('summary.csv')\n",
    "\n",
    "    #Finding count of the missing values\n",
    "    row=['missing values']\n",
    "    for i in list(df.columns):\n",
    "        row.append(df[i].isnull().sum())\n",
    "\n",
    "    with open('summary.csv','a') as csvfile:\n",
    "        writer = csv.writer(csvfile)\n",
    "        writer.writerow(row)\n",
    "    csvfile.close()\n",
    "    print(row)\n",
    "    \n",
    "    #Finding the count of outliers\n",
    "    row1=['outliers']\n",
    "    for i in list(df.columns):\n",
    "        if df[i].dtype in ('int64', 'float64'):\n",
    "            row1.append((df[i] > (df.loc[:,i].mean() + (df.loc[:,i].std()*3))).sum())\n",
    "        else:\n",
    "            row1.append('NA')\n",
    "        \n",
    "    with open('summary.csv','a') as csvfile:\n",
    "        writer = csv.writer(csvfile)\n",
    "        writer.writerow(row1)\n",
    "    csvfile.close()\n",
    "    print(row1)"
   ]
  },
  {
   "cell_type": "code",
   "execution_count": 31,
   "metadata": {},
   "outputs": [
    {
     "data": {
      "image/png": "[encoded data removed]",
      "text/plain": [
       "<Figure size 720x576 with 1 Axes>"
      ]
     },
     "metadata": {
      "needs_background": "light"
     },
     "output_type": "display_data"
    },
    {
     "data": {
      "image/png": "[encoded data removed]",
      "text/plain": [
       "<Figure size 720x576 with 1 Axes>"
      ]
     },
     "metadata": {
      "needs_background": "light"
     },
     "output_type": "display_data"
    }
   ],
   "source": [
    "#Calling the analyze_data function with the data frame\n",
    "\n",
    "analyze_data(df)"
   ]
  },
  {
   "cell_type": "code",
   "execution_count": 34,
   "metadata": {},
   "outputs": [
    {
     "name": "stdout",
     "output_type": "stream",
     "text": [
      "['missing values', 0, 0]\n",
      "['outliers', 33, 29]\n"
     ]
    }
   ],
   "source": [
    "#Calling the count_nulls_outliers function with the data frame\n",
    "\n",
    "count_nulls_outliers(df)"
   ]
  },
  {
   "cell_type": "code",
   "execution_count": 35,
   "metadata": {},
   "outputs": [],
   "source": [
    "df1=df[df['Height(Inches)'] > (df.loc[:,'Height(Inches)'].mean() + (df.loc[:,'Height(Inches)'].std()*3))]\n",
    "df2=df[df['Weight(Pounds)'] > (df.loc[:,'Weight(Pounds)'].mean() + (df.loc[:,'Weight(Pounds)'].std()*3))]"
   ]
  },
  {
   "cell_type": "code",
   "execution_count": 37,
   "metadata": {},
   "outputs": [
    {
     "name": "stdout",
     "output_type": "stream",
     "text": [
      "(25000, 2)\n",
      "Height(Inches)    33\n",
      "Weight(Pounds)    33\n",
      "dtype: int64\n",
      "Height(Inches)    29\n",
      "Weight(Pounds)    29\n",
      "dtype: int64\n",
      "Height Outliers\n",
      "       Height(Inches)  Weight(Pounds)\n",
      "138          73.90107        151.3913\n",
      "174          73.83364        139.2983\n",
      "1162         74.24899        150.2167\n",
      "1383         74.19488        129.0597\n",
      "1893         75.15280        146.9701\n",
      "2395         73.99549        142.9016\n",
      "2481         75.11519        153.9562\n",
      "4191         74.03777        139.5953\n",
      "4508         74.28376        147.7877\n",
      "6627         73.72628        142.8110\n",
      "7269         73.81695        140.0915\n",
      "7839         73.85521        136.0667\n",
      "8472         73.95409        145.2695\n",
      "8828         74.27270        144.6600\n",
      "9225         73.75335        153.1022\n",
      "9492         74.05895        133.8172\n",
      "10330        74.36328        164.6643\n",
      "10635        73.88574        135.9816\n",
      "11173        74.16797        142.7732\n",
      "13681        74.74047        155.5462\n",
      "14063        74.04804        149.6303\n",
      "15209        74.59993        147.0372\n",
      "15966        74.25069        150.0567\n",
      "16145        74.47517        130.9092\n",
      "16385        73.88318        134.2179\n",
      "16752        74.84890        122.1664\n",
      "17079        74.29570        170.5479\n",
      "19005        74.01942        124.2312\n",
      "21949        74.42744        141.7416\n",
      "22471        74.51784        146.9867\n",
      "22769        74.19842        141.6148\n",
      "23039        73.95494        154.3987\n",
      "24801        74.53177        148.9104\n",
      "Weight Outliers\n",
      "       Height(Inches)  Weight(Pounds)\n",
      "367          72.32489        168.2290\n",
      "446          69.16807        162.4109\n",
      "1332         72.52115        162.8737\n",
      "3923         68.98184        162.1526\n",
      "4053         70.03532        162.0645\n",
      "4343         73.52131        168.8810\n",
      "4624         71.78019        166.3016\n",
      "5394         70.75604        166.2812\n",
      "6118         70.42781        165.7172\n",
      "6384         71.25946        164.5588\n",
      "6506         70.32828        163.8992\n",
      "7996         69.57329        169.1268\n",
      "9823         71.61882        165.8716\n",
      "9925         70.47453        165.8150\n",
      "9957         73.17710        162.3663\n",
      "10234        70.71295        170.9240\n",
      "10330        74.36328        164.6643\n",
      "11753        70.38460        166.7687\n",
      "11819        71.73550        162.0943\n",
      "11974        71.26903        166.1956\n",
      "12883        71.58499        167.8045\n",
      "13738        71.23640        165.4348\n",
      "14514        70.95412        162.4844\n",
      "15097        70.20879        163.8728\n",
      "15474        71.40250        163.3466\n",
      "16126        67.56548        164.5865\n",
      "17079        74.29570        170.5479\n",
      "20308        72.59665        165.6900\n",
      "21007        70.33089        164.4539\n",
      "<class 'pandas.core.frame.DataFrame'>\n",
      "RangeIndex: 25000 entries, 0 to 24999\n",
      "Data columns (total 2 columns):\n",
      "Height(Inches)    25000 non-null float64\n",
      "Weight(Pounds)    25000 non-null float64\n",
      "dtypes: float64(2)\n",
      "memory usage: 390.8 KB\n",
      "None\n",
      "(25000, 2)\n"
     ]
    }
   ],
   "source": [
    "print(df.shape)\n",
    "print(df1.count())\n",
    "print(df2.count())\n",
    "print('Height Outliers')\n",
    "print(df1)\n",
    "print('Weight Outliers')\n",
    "print(df2)\n",
    "print(df.info())\n",
    "print(df.shape)"
   ]
  },
  {
   "cell_type": "code",
   "execution_count": 149,
   "metadata": {},
   "outputs": [],
   "source": [
    "#Looking at the outlier values they seem to be legit, so no outlier treament is required\n",
    "#Also, since there are no null values, that also does not need to be traeted as well"
   ]
  },
  {
   "cell_type": "code",
   "execution_count": 38,
   "metadata": {},
   "outputs": [
    {
     "name": "stdout",
     "output_type": "stream",
     "text": [
      "Height\n",
      "======\n",
      "[[65.78331]\n",
      " [71.51521]\n",
      " [69.39874]\n",
      " ...\n",
      " [64.69855]\n",
      " [67.52918]\n",
      " [68.87761]]\n",
      "Weight\n",
      "======\n",
      "[112.9925 136.4873 153.0269 ... 118.2655 132.2682 124.8742]\n"
     ]
    }
   ],
   "source": [
    "# Implementing Simple Linear Regression\n",
    "\n",
    "# Importing the dataset\n",
    "X = df.iloc[:, :-1].values\n",
    "y = df.iloc[:, 1].values\n",
    "print('Height')\n",
    "print('======')\n",
    "print (X)\n",
    "print('Weight')\n",
    "print('======')\n",
    "print (y)"
   ]
  },
  {
   "cell_type": "code",
   "execution_count": 44,
   "metadata": {},
   "outputs": [],
   "source": [
    "# Splitting the dataset into the Training set and Test set\n",
    "from sklearn.model_selection import train_test_split\n",
    "X_train, X_test, y_train, y_test = train_test_split(X, y, test_size = 0.20, random_state = 0)\n"
   ]
  },
  {
   "cell_type": "code",
   "execution_count": 45,
   "metadata": {},
   "outputs": [
    {
     "data": {
      "image/png": "[encoded data removed]",
      "text/plain": [
       "<Figure size 432x288 with 1 Axes>"
      ]
     },
     "metadata": {
      "needs_background": "light"
     },
     "output_type": "display_data"
    },
    {
     "data": {
      "image/png": "[encoded data removed]",
      "text/plain": [
       "<Figure size 432x288 with 1 Axes>"
      ]
     },
     "metadata": {
      "needs_background": "light"
     },
     "output_type": "display_data"
    }
   ],
   "source": [
    "# Fitting Simple Linear Regression to the Training set\n",
    "from sklearn.linear_model import LinearRegression\n",
    "regressor = LinearRegression()\n",
    "regressor.fit(X_train, y_train)\n",
    "\n",
    "# Predicting the Test set results\n",
    "y_pred = regressor.predict(X_test)\n",
    "\n",
    "# Visualising the Training set results\n",
    "plt.scatter(X_train, y_train, color = 'red')\n",
    "plt.plot(X_train, regressor.predict(X_train), color = 'blue')\n",
    "plt.title('Height vs Weight (Training set)')\n",
    "plt.xlabel('Height')\n",
    "plt.ylabel('Weight')\n",
    "plt.show()\n",
    "\n",
    "# Visualising the Test set results\n",
    "plt.scatter(X_test, y_test, color = 'red')\n",
    "plt.plot(X_train, regressor.predict(X_train), color = 'blue')\n",
    "plt.title('Height vs Weight (Test set)')\n",
    "plt.xlabel('Height')\n",
    "plt.ylabel('Weight')\n",
    "plt.show()"
   ]
  },
  {
   "cell_type": "code",
   "execution_count": 46,
   "metadata": {},
   "outputs": [
    {
     "data": {
      "text/plain": [
       "array([134.2032, 141.6617, 111.6239, ..., 133.2004, 159.9584, 127.9335])"
      ]
     },
     "execution_count": 46,
     "metadata": {},
     "output_type": "execute_result"
    }
   ],
   "source": [
    "y_test"
   ]
  },
  {
   "cell_type": "code",
   "execution_count": 47,
   "metadata": {},
   "outputs": [
    {
     "data": {
      "text/plain": [
       "array([123.33549794, 134.00612771, 124.67667359, ..., 125.68063341,\n",
       "       130.43237501, 123.04698086])"
      ]
     },
     "execution_count": 47,
     "metadata": {},
     "output_type": "execute_result"
    }
   ],
   "source": [
    "y_pred"
   ]
  },
  {
   "cell_type": "code",
   "execution_count": 48,
   "metadata": {},
   "outputs": [
    {
     "name": "stdout",
     "output_type": "stream",
     "text": [
      "MSE = 105.05298919282606\n",
      "RMSE = 10.249536047686552\n",
      "R-Squared = 0.25883302999241287\n",
      "Regressor Score = 0.25283197078206754\n"
     ]
    }
   ],
   "source": [
    "regressor.intercept_\n",
    "regressor.coef_\n",
    "\n",
    "from sklearn.metrics import mean_squared_error\n",
    "MSE=mean_squared_error(y_test, y_pred)\n",
    "print('MSE = ' + str(MSE))\n",
    "RMSE=math.sqrt(MSE)\n",
    "print('RMSE = ' + str(RMSE))\n",
    "\n",
    "from sklearn.metrics import r2_score\n",
    "r2=r2_score(y_test, y_pred, multioutput='variance_weighted')\n",
    "print('R-Squared = '+ str(r2))\n",
    "\n",
    "#from sklearn.metrics import \n",
    "\n",
    "print('Regressor Score = ' + str(regressor.score(X,y)))"
   ]
  },
  {
   "cell_type": "code",
   "execution_count": 49,
   "metadata": {},
   "outputs": [
    {
     "name": "stdout",
     "output_type": "stream",
     "text": [
      "[[65.78331]\n",
      " [71.51521]\n",
      " [69.39874]\n",
      " ...\n",
      " [64.69855]\n",
      " [67.52918]\n",
      " [68.87761]]\n",
      "[112.9925 136.4873 153.0269 ... 118.2655 132.2682 124.8742]\n"
     ]
    }
   ],
   "source": [
    "# Outlier removal\n",
    "df=pd.read_csv('data.csv')\n",
    "df=df.drop(['Index'],axis=1)\n",
    "df=df[df['Height(Inches)'] < ((df.loc[:,'Height(Inches)'].mean() + (df.loc[:,'Height(Inches)'].std()*3)))]\n",
    "df=df[df['Height(Inches)'] > ((df.loc[:,'Height(Inches)'].mean() - (df.loc[:,'Height(Inches)'].std()*3)))]\n",
    "df=df[df['Weight(Pounds)'] < ((df.loc[:,'Weight(Pounds)'].mean() + (df.loc[:,'Weight(Pounds)'].std()*3)))]\n",
    "df=df[df['Weight(Pounds)'] > ((df.loc[:,'Weight(Pounds)'].mean() - (df.loc[:,'Weight(Pounds)'].std()*3)))]\n",
    "X=df.iloc[:,:-1].values\n",
    "y=df.iloc[:,1].values\n",
    "print(X)\n",
    "print(y)"
   ]
  },
  {
   "cell_type": "code",
   "execution_count": 50,
   "metadata": {},
   "outputs": [
    {
     "data": {
      "text/plain": [
       "(24882, 2)"
      ]
     },
     "execution_count": 50,
     "metadata": {},
     "output_type": "execute_result"
    }
   ],
   "source": [
    "df.shape"
   ]
  },
  {
   "cell_type": "code",
   "execution_count": 52,
   "metadata": {},
   "outputs": [],
   "source": [
    "#Creating the Training and the Test Set\n",
    "from sklearn.model_selection import train_test_split\n",
    "X_train, X_test, y_train, y_test = train_test_split(X, y, test_size=1/3, random_state=0)"
   ]
  },
  {
   "cell_type": "code",
   "execution_count": 53,
   "metadata": {},
   "outputs": [],
   "source": [
    "from sklearn.linear_model import LinearRegression\n",
    "regressor=LinearRegression()\n",
    "regressor.fit(X_train, y_train)\n",
    "\n",
    "y_pred=regressor.predict(X_test)"
   ]
  },
  {
   "cell_type": "code",
   "execution_count": 55,
   "metadata": {},
   "outputs": [
    {
     "name": "stdout",
     "output_type": "stream",
     "text": [
      "MSE = 98.8343981655001\n",
      "RMSE = 9.941549082788864\n",
      "R-Squared = 0.24399368932936683\n",
      "Regressor Score: 0.2441229792414632\n"
     ]
    }
   ],
   "source": [
    "regressor.intercept_\n",
    "regressor.coef_\n",
    "\n",
    "from sklearn.metrics import mean_squared_error\n",
    "MSE=mean_squared_error(y_test, y_pred)\n",
    "print('MSE = ' + str(MSE))\n",
    "RMSE=math.sqrt(MSE)\n",
    "print('RMSE = ' + str(RMSE))\n",
    "\n",
    "from sklearn.metrics import r2_score\n",
    "r2=r2_score(y_test, y_pred, multioutput='variance_weighted')\n",
    "print('R-Squared = '+ str(r2))\n",
    "\n",
    "#from sklearn.metrics import \n",
    "\n",
    "print('Regressor Score: ' + str(regressor.score(X,y)))"
   ]
  },
  {
   "cell_type": "code",
   "execution_count": 56,
   "metadata": {},
   "outputs": [
    {
     "data": {
      "image/png": "[encoded data removed]",
      "text/plain": [
       "<Figure size 432x288 with 1 Axes>"
      ]
     },
     "metadata": {
      "needs_background": "light"
     },
     "output_type": "display_data"
    }
   ],
   "source": [
    "plt.scatter(X_train, y_train, color='red')\n",
    "plt.plot(X_train, regressor.predict(X_train), color='blue')\n",
    "plt.show()\n",
    "plt.close()"
   ]
  },
  {
   "cell_type": "code",
   "execution_count": 57,
   "metadata": {},
   "outputs": [
    {
     "data": {
      "image/png": "[encoded data removed]",
      "text/plain": [
       "<Figure size 432x288 with 1 Axes>"
      ]
     },
     "metadata": {
      "needs_background": "light"
     },
     "output_type": "display_data"
    }
   ],
   "source": [
    "plt.scatter(X_test, y_test, color='red')\n",
    "plt.plot(X_train, regressor.predict(X_train), color='blue')\n",
    "plt.show()\n",
    "plt.close()"
   ]
  },
  {
   "cell_type": "markdown",
   "metadata": {},
   "source": [
    "So it is observed that:\n",
    "\n",
    "R-Squared - Before removing Outliers was 0.2581\n",
    "\n",
    "R-Squared - After removing Outliers was 0.2439"
   ]
  },
  {
   "cell_type": "markdown",
   "metadata": {},
   "source": [
    "I think I should first see the distribution of data Height to understand the data better"
   ]
  },
  {
   "cell_type": "code",
   "execution_count": 58,
   "metadata": {},
   "outputs": [
    {
     "data": {
      "image/png": "[encoded data removed]",
      "text/plain": [
       "<Figure size 432x288 with 1 Axes>"
      ]
     },
     "metadata": {
      "needs_background": "light"
     },
     "output_type": "display_data"
    }
   ],
   "source": [
    "plt.hist(X)\n",
    "plt.xlabel('Height Buckets')\n",
    "plt.ylabel('Height Counts')\n",
    "plt.show()\n",
    "plt.close()"
   ]
  },
  {
   "cell_type": "code",
   "execution_count": 60,
   "metadata": {},
   "outputs": [
    {
     "data": {
      "image/png": "[encoded data removed]",
      "text/plain": [
       "<Figure size 432x288 with 1 Axes>"
      ]
     },
     "metadata": {
      "needs_background": "light"
     },
     "output_type": "display_data"
    }
   ],
   "source": [
    "plt.hist(y)\n",
    "plt.xlabel('Weight Buckets')\n",
    "plt.ylabel('Weight Counts')\n",
    "plt.show()\n",
    "plt.close()"
   ]
  },
  {
   "cell_type": "code",
   "execution_count": 61,
   "metadata": {},
   "outputs": [
    {
     "name": "stdout",
     "output_type": "stream",
     "text": [
      "Std Dev : 1.8719131436691288\n",
      "Skewness: 0.10283728116824419\n",
      "Co-eff of Skewness : 0.0016122934557555302\n",
      "Curtosis : 34.8460882113225\n",
      "Co-eff of Custosis : 9.94449295139631\n"
     ]
    }
   ],
   "source": [
    "standard_deviation = math.sqrt((((X.mean() - X) ** 2).sum()) / 25000)\n",
    "skewness = (((X.mean() - X) ** 3).sum()) / 25000\n",
    "curtosis = (((X.mean() - X) ** 4).sum()) / 25000\n",
    "\n",
    "skewness_coefficient = (skewness ** 2) / (standard_deviation ** 3)\n",
    "curtosis_coefficient = curtosis / (standard_deviation ** 2)\n",
    "\n",
    "print('Std Dev : ' + str(standard_deviation))\n",
    "print('Skewness: ' + str(skewness))\n",
    "print('Co-eff of Skewness : '+ str(skewness_coefficient))\n",
    "print('Curtosis : ' + str(curtosis))\n",
    "print('Co-eff of Custosis : '+str(curtosis_coefficient))"
   ]
  },
  {
   "cell_type": "markdown",
   "metadata": {},
   "source": [
    "Skewness co-efficient refernce:\n",
    "1. Between -0.5 to +0.5 ==> Fairly Symmetrical\n",
    "2. Between -1.0 to -0.5 or +0.5 to +1.0 ==> Moderately Skewed\n",
    "3. <-1.0 or >+1.0 - Highly Skewed\n",
    "\n",
    "Custosis co-efficient refernce:\n",
    "1. Normal Distribution = 3 i.e. Mesokurtic\n",
    "2. >3 - Heavier Tails (with lots of outliers) i.e. Leptokurtic\n",
    "3. <3 - Lighter Tails (With less or no outliers) i.e. platycurtic"
   ]
  },
  {
   "cell_type": "markdown",
   "metadata": {},
   "source": [
    "# Let's see how Random Forest predicts the weights"
   ]
  },
  {
   "cell_type": "code",
   "execution_count": 62,
   "metadata": {},
   "outputs": [
    {
     "name": "stdout",
     "output_type": "stream",
     "text": [
      "[[65.78331]\n",
      " [71.51521]\n",
      " [69.39874]\n",
      " ...\n",
      " [64.69855]\n",
      " [67.52918]\n",
      " [68.87761]]\n",
      "[112.9925 136.4873 153.0269 ... 118.2655 132.2682 124.8742]\n"
     ]
    }
   ],
   "source": [
    "df=pd.read_csv('Data.csv')\n",
    "X=df.iloc[:,1:2].values\n",
    "y=df.iloc[:,2].values\n",
    "print(X)\n",
    "print(y)"
   ]
  },
  {
   "cell_type": "code",
   "execution_count": 63,
   "metadata": {},
   "outputs": [],
   "source": [
    "from sklearn.model_selection import train_test_split\n",
    "X_train, X_test, y_train, y_test = train_test_split(X, y, test_size = 0.2, random_state = 0)\n",
    "#X_train=X_train.reshape(-1,1)\n",
    "#y_train=y_train.reshape(-1,1)\n",
    "#X_test=X_test.reshape(-1,1)\n",
    "#y_test=y_test.reshape(-1,1)"
   ]
  },
  {
   "cell_type": "code",
   "execution_count": 64,
   "metadata": {},
   "outputs": [
    {
     "name": "stdout",
     "output_type": "stream",
     "text": [
      "[[67.46994]\n",
      " [66.50874]\n",
      " [69.39596]\n",
      " ...\n",
      " [63.93049]\n",
      " [66.97528]\n",
      " [69.77321]]\n",
      "[121.8602 132.745  131.8885 ... 108.3559 133.7971 143.6484]\n",
      "[[66.75233]\n",
      " [70.23626]\n",
      " [67.19022]\n",
      " ...\n",
      " [67.51801]\n",
      " [69.06944]\n",
      " [66.65813]]\n",
      "[134.2032 141.6617 111.6239 ... 133.2004 159.9584 127.9335]\n"
     ]
    }
   ],
   "source": [
    "print(X_train)\n",
    "print(y_train)\n",
    "print(X_test)\n",
    "print(y_test)"
   ]
  },
  {
   "cell_type": "code",
   "execution_count": 65,
   "metadata": {},
   "outputs": [
    {
     "name": "stdout",
     "output_type": "stream",
     "text": [
      "R-Squared = -0.06175103970447182\n"
     ]
    }
   ],
   "source": [
    "from sklearn.ensemble import RandomForestRegressor\n",
    "regressor=RandomForestRegressor()\n",
    "\n",
    "#for i in range(1, 150):\n",
    "regressor = RandomForestRegressor(n_estimators=150, random_state=0)\n",
    "regressor.fit(X_train, y_train)\n",
    "y_pred=regressor.predict(X_test)\n",
    "r2=r2_score(y_test, y_pred, multioutput='variance_weighted')\n",
    "print('R-Squared = ' + str(r2))"
   ]
  },
  {
   "cell_type": "code",
   "execution_count": 66,
   "metadata": {},
   "outputs": [
    {
     "name": "stdout",
     "output_type": "stream",
     "text": [
      "Regressor Score: -0.34622525709248575\n"
     ]
    }
   ],
   "source": [
    "print('Regressor Score: ' + str(regressor.score(y_test.reshape(-1,1),y_pred)))"
   ]
  },
  {
   "cell_type": "code",
   "execution_count": 67,
   "metadata": {},
   "outputs": [
    {
     "name": "stdout",
     "output_type": "stream",
     "text": [
      "[134.2032 141.6617 111.6239 ... 133.2004 159.9584 127.9335]\n",
      "[131.10096667 126.88048333 125.31579667 ... 124.889018   139.07283533\n",
      " 118.96792267]\n"
     ]
    }
   ],
   "source": [
    "print(y_test)\n",
    "print(y_pred)"
   ]
  },
  {
   "cell_type": "code",
   "execution_count": 68,
   "metadata": {},
   "outputs": [
    {
     "name": "stdout",
     "output_type": "stream",
     "text": [
      "        y_test\n",
      "0     134.2032\n",
      "1     141.6617\n",
      "2     111.6239\n",
      "3     118.2317\n",
      "4     102.6027\n",
      "...        ...\n",
      "4995  135.6229\n",
      "4996  150.5815\n",
      "4997  133.2004\n",
      "4998  159.9584\n",
      "4999  127.9335\n",
      "\n",
      "[5000 rows x 1 columns]\n",
      "        y_test      y_pred\n",
      "0     134.2032  131.100967\n",
      "1     141.6617  126.880483\n",
      "2     111.6239  125.315797\n",
      "3     118.2317  134.018157\n",
      "4     102.6027  122.534229\n",
      "...        ...         ...\n",
      "4995  135.6229  129.302226\n",
      "4996  150.5815  129.377105\n",
      "4997  133.2004  124.889018\n",
      "4998  159.9584  139.072835\n",
      "4999  127.9335  118.967923\n",
      "\n",
      "[5000 rows x 2 columns]\n"
     ]
    }
   ],
   "source": [
    "df_val=pd.DataFrame()\n",
    "df_val['y_test']=y_test\n",
    "print(df_val)\n",
    "df_val['y_pred']=y_pred\n",
    "print(df_val)"
   ]
  },
  {
   "cell_type": "code",
   "execution_count": 70,
   "metadata": {},
   "outputs": [],
   "source": [
    "df_val.to_csv('Predictions-using-random-forest.csv')"
   ]
  },
  {
   "cell_type": "markdown",
   "metadata": {},
   "source": [
    "# Using SV"
   ]
  },
  {
   "cell_type": "code",
   "execution_count": 78,
   "metadata": {},
   "outputs": [
    {
     "name": "stderr",
     "output_type": "stream",
     "text": [
      "C:\\Users\\Manish Kumar\\AppData\\Local\\Continuum\\anaconda3\\lib\\site-packages\\sklearn\\svm\\base.py:193: FutureWarning: The default value of gamma will change from 'auto' to 'scale' in version 0.22 to account better for unscaled features. Set gamma explicitly to 'auto' or 'scale' to avoid this warning.\n",
      "  \"avoid this warning.\", FutureWarning)\n"
     ]
    },
    {
     "name": "stdout",
     "output_type": "stream",
     "text": [
      "0.25578619247636947\n",
      "-0.0021623640112831133\n"
     ]
    }
   ],
   "source": [
    "# Fitting SVR to the dataset\n",
    "from sklearn.svm import SVR\n",
    "regressor = SVR(kernel = 'rbf')\n",
    "regressor.fit(X_train, y_train)\n",
    "\n",
    "# Predicting a new result\n",
    "y_pred = regressor.predict(X_test.reshape(-1,1))\n",
    "\n",
    "\n",
    "r2=r2_score(y_test, y_pred, multioutput='variance_weighted')\n",
    "\n",
    "print(r2)\n",
    "\n",
    "score=regressor.score(y_test.reshape(-1,1),y_pred)\n",
    "print (score)"
   ]
  },
  {
   "cell_type": "markdown",
   "metadata": {},
   "source": [
    "# Using Polynomial Regression"
   ]
  },
  {
   "cell_type": "code",
   "execution_count": 73,
   "metadata": {},
   "outputs": [
    {
     "data": {
      "text/plain": [
       "LinearRegression(copy_X=True, fit_intercept=False, n_jobs=None, normalize=True)"
      ]
     },
     "execution_count": 73,
     "metadata": {},
     "output_type": "execute_result"
    }
   ],
   "source": [
    "# Fitting Polynomial Regression to the dataset\n",
    "from sklearn.preprocessing import PolynomialFeatures\n",
    "\n",
    "poly_reg = PolynomialFeatures(degree = 3)\n",
    "X_poly = poly_reg.fit_transform(X_train)\n",
    "poly_reg.fit(X_poly, y_train)\n",
    "\n",
    "lin_reg_2 = LinearRegression(fit_intercept=False, normalize=True)\n",
    "lin_reg_2.fit(X_poly, y_train)"
   ]
  },
  {
   "cell_type": "code",
   "execution_count": 74,
   "metadata": {},
   "outputs": [],
   "source": [
    "y_pred=lin_reg_2.predict(poly_reg.fit_transform(X_test))"
   ]
  },
  {
   "cell_type": "code",
   "execution_count": 75,
   "metadata": {},
   "outputs": [
    {
     "name": "stdout",
     "output_type": "stream",
     "text": [
      "0.25875889457499945\n"
     ]
    }
   ],
   "source": [
    "r2=r2_score(y_test,y_pred,multioutput='variance_weighted')\n",
    "print(r2)"
   ]
  },
  {
   "cell_type": "markdown",
   "metadata": {},
   "source": [
    "# Using XGBoost"
   ]
  },
  {
   "cell_type": "code",
   "execution_count": 80,
   "metadata": {},
   "outputs": [
    {
     "data": {
      "text/plain": [
       "XGBRegressor(base_score=0.5, booster='gbtree', colsample_bylevel=1,\n",
       "             colsample_bynode=1, colsample_bytree=1, gamma=0,\n",
       "             importance_type='gain', learning_rate=0.1, max_delta_step=0,\n",
       "             max_depth=3, min_child_weight=1, missing=None, n_estimators=100,\n",
       "             n_jobs=1, nthread=None, objective='reg:squarederror',\n",
       "             random_state=0, reg_alpha=0, reg_lambda=1, scale_pos_weight=1,\n",
       "             seed=None, silent=None, subsample=1, verbosity=1)"
      ]
     },
     "execution_count": 80,
     "metadata": {},
     "output_type": "execute_result"
    }
   ],
   "source": [
    "from xgboost import XGBRegressor\n",
    "\n",
    "from sklearn.model_selection import train_test_split\n",
    "X_train, X_test, y_train, y_test = train_test_split(X, y, test_size = 0.2, random_state = 0)\n",
    "\n",
    "model = XGBRegressor(objective='reg:squarederror')\n",
    "model.fit(X_train, y_train)"
   ]
  },
  {
   "cell_type": "code",
   "execution_count": 84,
   "metadata": {},
   "outputs": [
    {
     "data": {
      "text/plain": [
       "0.25686810181314934"
      ]
     },
     "execution_count": 84,
     "metadata": {},
     "output_type": "execute_result"
    }
   ],
   "source": [
    "y_pred = model.predict(X_test)\n",
    "\n",
    "accuracy = r2_score(y_test,y_pred)\n",
    "accuracy"
   ]
  },
  {
   "cell_type": "markdown",
   "metadata": {},
   "source": [
    "# Classify the DataSet"
   ]
  },
  {
   "cell_type": "code",
   "execution_count": 111,
   "metadata": {},
   "outputs": [
    {
     "data": {
      "text/html": [
       "<div>\n",
       "<style scoped>\n",
       "    .dataframe tbody tr th:only-of-type {\n",
       "        vertical-align: middle;\n",
       "    }\n",
       "\n",
       "    .dataframe tbody tr th {\n",
       "        vertical-align: top;\n",
       "    }\n",
       "\n",
       "    .dataframe thead th {\n",
       "        text-align: right;\n",
       "    }\n",
       "</style>\n",
       "<table border=\"1\" class=\"dataframe\">\n",
       "  <thead>\n",
       "    <tr style=\"text-align: right;\">\n",
       "      <th></th>\n",
       "      <th>Index</th>\n",
       "      <th>Height(Inches)</th>\n",
       "      <th>Weight(Pounds)</th>\n",
       "    </tr>\n",
       "  </thead>\n",
       "  <tbody>\n",
       "    <tr>\n",
       "      <td>0</td>\n",
       "      <td>1</td>\n",
       "      <td>65.78331</td>\n",
       "      <td>112.9925</td>\n",
       "    </tr>\n",
       "    <tr>\n",
       "      <td>1</td>\n",
       "      <td>2</td>\n",
       "      <td>71.51521</td>\n",
       "      <td>136.4873</td>\n",
       "    </tr>\n",
       "    <tr>\n",
       "      <td>2</td>\n",
       "      <td>3</td>\n",
       "      <td>69.39874</td>\n",
       "      <td>153.0269</td>\n",
       "    </tr>\n",
       "    <tr>\n",
       "      <td>3</td>\n",
       "      <td>4</td>\n",
       "      <td>68.21660</td>\n",
       "      <td>142.3354</td>\n",
       "    </tr>\n",
       "    <tr>\n",
       "      <td>4</td>\n",
       "      <td>5</td>\n",
       "      <td>67.78781</td>\n",
       "      <td>144.2971</td>\n",
       "    </tr>\n",
       "  </tbody>\n",
       "</table>\n",
       "</div>"
      ],
      "text/plain": [
       "   Index  Height(Inches)  Weight(Pounds)\n",
       "0      1        65.78331        112.9925\n",
       "1      2        71.51521        136.4873\n",
       "2      3        69.39874        153.0269\n",
       "3      4        68.21660        142.3354\n",
       "4      5        67.78781        144.2971"
      ]
     },
     "execution_count": 111,
     "metadata": {},
     "output_type": "execute_result"
    }
   ],
   "source": [
    "df=pd.read_csv('data.csv')\n",
    "df.head()"
   ]
  },
  {
   "cell_type": "code",
   "execution_count": 288,
   "metadata": {},
   "outputs": [
    {
     "data": {
      "text/plain": [
       "array([[-1.73198153, -1.16205104, -1.20807192, -0.26845893],\n",
       "       [-1.73184296,  1.85213554,  0.8068047 , -0.26845893],\n",
       "       [-1.7317044 ,  0.73916507,  2.22521445, -0.26845893],\n",
       "       ...,\n",
       "       [ 1.7317044 , -1.73248476, -0.75586784, -0.26845893],\n",
       "       [ 1.73184296, -0.2439649 ,  0.44498141, -0.26845893],\n",
       "       [ 1.73198153,  0.46512277, -0.18911625, -0.26845893]])"
      ]
     },
     "execution_count": 288,
     "metadata": {},
     "output_type": "execute_result"
    }
   ],
   "source": [
    "from sklearn.preprocessing import StandardScaler\n",
    "scaler=StandardScaler()\n",
    "df_scaled=scaler.fit_transform(df)\n",
    "df_scaled"
   ]
  },
  {
   "cell_type": "code",
   "execution_count": 289,
   "metadata": {},
   "outputs": [],
   "source": [
    "from sklearn.cluster import DBSCAN\n",
    "db = DBSCAN(eps=0.1, min_samples=10).fit(df_scaled)"
   ]
  },
  {
   "cell_type": "code",
   "execution_count": 291,
   "metadata": {},
   "outputs": [
    {
     "name": "stdout",
     "output_type": "stream",
     "text": [
      "[-1 -1 -1 ... -1 -1 -1]\n"
     ]
    },
    {
     "data": {
      "text/html": [
       "<div>\n",
       "<style scoped>\n",
       "    .dataframe tbody tr th:only-of-type {\n",
       "        vertical-align: middle;\n",
       "    }\n",
       "\n",
       "    .dataframe tbody tr th {\n",
       "        vertical-align: top;\n",
       "    }\n",
       "\n",
       "    .dataframe thead th {\n",
       "        text-align: right;\n",
       "    }\n",
       "</style>\n",
       "<table border=\"1\" class=\"dataframe\">\n",
       "  <thead>\n",
       "    <tr style=\"text-align: right;\">\n",
       "      <th></th>\n",
       "      <th>Index</th>\n",
       "      <th>Height(Inches)</th>\n",
       "      <th>Weight(Pounds)</th>\n",
       "      <th>Cluster</th>\n",
       "    </tr>\n",
       "  </thead>\n",
       "  <tbody>\n",
       "    <tr>\n",
       "      <td>0</td>\n",
       "      <td>1</td>\n",
       "      <td>65.78331</td>\n",
       "      <td>112.9925</td>\n",
       "      <td>-1</td>\n",
       "    </tr>\n",
       "    <tr>\n",
       "      <td>1</td>\n",
       "      <td>2</td>\n",
       "      <td>71.51521</td>\n",
       "      <td>136.4873</td>\n",
       "      <td>-1</td>\n",
       "    </tr>\n",
       "    <tr>\n",
       "      <td>2</td>\n",
       "      <td>3</td>\n",
       "      <td>69.39874</td>\n",
       "      <td>153.0269</td>\n",
       "      <td>-1</td>\n",
       "    </tr>\n",
       "    <tr>\n",
       "      <td>3</td>\n",
       "      <td>4</td>\n",
       "      <td>68.21660</td>\n",
       "      <td>142.3354</td>\n",
       "      <td>-1</td>\n",
       "    </tr>\n",
       "    <tr>\n",
       "      <td>4</td>\n",
       "      <td>5</td>\n",
       "      <td>67.78781</td>\n",
       "      <td>144.2971</td>\n",
       "      <td>-1</td>\n",
       "    </tr>\n",
       "  </tbody>\n",
       "</table>\n",
       "</div>"
      ],
      "text/plain": [
       "   Index  Height(Inches)  Weight(Pounds)  Cluster\n",
       "0      1        65.78331        112.9925       -1\n",
       "1      2        71.51521        136.4873       -1\n",
       "2      3        69.39874        153.0269       -1\n",
       "3      4        68.21660        142.3354       -1\n",
       "4      5        67.78781        144.2971       -1"
      ]
     },
     "execution_count": 291,
     "metadata": {},
     "output_type": "execute_result"
    }
   ],
   "source": [
    "labels = db.labels_\n",
    "print(labels)\n",
    "\n",
    "df['Cluster']=labels\n",
    "df.head()"
   ]
  },
  {
   "cell_type": "code",
   "execution_count": 292,
   "metadata": {},
   "outputs": [
    {
     "data": {
      "text/html": [
       "<div>\n",
       "<style scoped>\n",
       "    .dataframe tbody tr th:only-of-type {\n",
       "        vertical-align: middle;\n",
       "    }\n",
       "\n",
       "    .dataframe tbody tr th {\n",
       "        vertical-align: top;\n",
       "    }\n",
       "\n",
       "    .dataframe thead th {\n",
       "        text-align: right;\n",
       "    }\n",
       "</style>\n",
       "<table border=\"1\" class=\"dataframe\">\n",
       "  <thead>\n",
       "    <tr style=\"text-align: right;\">\n",
       "      <th></th>\n",
       "      <th>Index</th>\n",
       "      <th>Height(Inches)</th>\n",
       "      <th>Weight(Pounds)</th>\n",
       "      <th>Cluster</th>\n",
       "    </tr>\n",
       "  </thead>\n",
       "  <tbody>\n",
       "    <tr>\n",
       "      <td>count</td>\n",
       "      <td>25000.000000</td>\n",
       "      <td>25000.000000</td>\n",
       "      <td>25000.000000</td>\n",
       "      <td>25000.000000</td>\n",
       "    </tr>\n",
       "    <tr>\n",
       "      <td>mean</td>\n",
       "      <td>12500.500000</td>\n",
       "      <td>67.993114</td>\n",
       "      <td>127.079421</td>\n",
       "      <td>4.733320</td>\n",
       "    </tr>\n",
       "    <tr>\n",
       "      <td>std</td>\n",
       "      <td>7217.022701</td>\n",
       "      <td>1.901679</td>\n",
       "      <td>11.660898</td>\n",
       "      <td>21.779068</td>\n",
       "    </tr>\n",
       "    <tr>\n",
       "      <td>min</td>\n",
       "      <td>1.000000</td>\n",
       "      <td>60.278360</td>\n",
       "      <td>78.014760</td>\n",
       "      <td>-1.000000</td>\n",
       "    </tr>\n",
       "    <tr>\n",
       "      <td>25%</td>\n",
       "      <td>6250.750000</td>\n",
       "      <td>66.704397</td>\n",
       "      <td>119.308675</td>\n",
       "      <td>-1.000000</td>\n",
       "    </tr>\n",
       "    <tr>\n",
       "      <td>50%</td>\n",
       "      <td>12500.500000</td>\n",
       "      <td>67.995700</td>\n",
       "      <td>127.157750</td>\n",
       "      <td>-1.000000</td>\n",
       "    </tr>\n",
       "    <tr>\n",
       "      <td>75%</td>\n",
       "      <td>18750.250000</td>\n",
       "      <td>69.272958</td>\n",
       "      <td>134.892850</td>\n",
       "      <td>-1.000000</td>\n",
       "    </tr>\n",
       "    <tr>\n",
       "      <td>max</td>\n",
       "      <td>25000.000000</td>\n",
       "      <td>75.152800</td>\n",
       "      <td>170.924000</td>\n",
       "      <td>129.000000</td>\n",
       "    </tr>\n",
       "  </tbody>\n",
       "</table>\n",
       "</div>"
      ],
      "text/plain": [
       "              Index  Height(Inches)  Weight(Pounds)       Cluster\n",
       "count  25000.000000    25000.000000    25000.000000  25000.000000\n",
       "mean   12500.500000       67.993114      127.079421      4.733320\n",
       "std     7217.022701        1.901679       11.660898     21.779068\n",
       "min        1.000000       60.278360       78.014760     -1.000000\n",
       "25%     6250.750000       66.704397      119.308675     -1.000000\n",
       "50%    12500.500000       67.995700      127.157750     -1.000000\n",
       "75%    18750.250000       69.272958      134.892850     -1.000000\n",
       "max    25000.000000       75.152800      170.924000    129.000000"
      ]
     },
     "execution_count": 292,
     "metadata": {},
     "output_type": "execute_result"
    }
   ],
   "source": [
    "df.describe()"
   ]
  },
  {
   "cell_type": "code",
   "execution_count": 293,
   "metadata": {},
   "outputs": [
    {
     "data": {
      "text/plain": [
       "-1      22875\n",
       " 77        49\n",
       " 104       44\n",
       " 27        42\n",
       " 95        35\n",
       "        ...  \n",
       " 52        10\n",
       " 36        10\n",
       " 20        10\n",
       " 0         10\n",
       " 14         7\n",
       "Name: Cluster, Length: 131, dtype: int64"
      ]
     },
     "execution_count": 293,
     "metadata": {},
     "output_type": "execute_result"
    }
   ],
   "source": [
    "df['Cluster'].value_counts()"
   ]
  },
  {
   "cell_type": "code",
   "execution_count": 294,
   "metadata": {},
   "outputs": [
    {
     "data": {
      "text/plain": [
       "<matplotlib.collections.PathCollection at 0x1afb67d4848>"
      ]
     },
     "execution_count": 294,
     "metadata": {},
     "output_type": "execute_result"
    },
    {
     "data": {
      "image/png": "[encoded data removed]",
      "text/plain": [
       "<Figure size 432x288 with 1 Axes>"
      ]
     },
     "metadata": {
      "needs_background": "light"
     },
     "output_type": "display_data"
    }
   ],
   "source": [
    "df1=df[df['Cluster']==-1]\n",
    "df2=df[df['Cluster']==0]\n",
    "\n",
    "plt.scatter(df1['Height(Inches)'],df1['Weight(Pounds)'], color='red')\n",
    "plt.scatter(df2['Height(Inches)'],df2['Weight(Pounds)'], color='blue')"
   ]
  },
  {
   "cell_type": "code",
   "execution_count": 235,
   "metadata": {},
   "outputs": [
    {
     "data": {
      "text/html": [
       "<div>\n",
       "<style scoped>\n",
       "    .dataframe tbody tr th:only-of-type {\n",
       "        vertical-align: middle;\n",
       "    }\n",
       "\n",
       "    .dataframe tbody tr th {\n",
       "        vertical-align: top;\n",
       "    }\n",
       "\n",
       "    .dataframe thead th {\n",
       "        text-align: right;\n",
       "    }\n",
       "</style>\n",
       "<table border=\"1\" class=\"dataframe\">\n",
       "  <thead>\n",
       "    <tr style=\"text-align: right;\">\n",
       "      <th></th>\n",
       "      <th>Index</th>\n",
       "      <th>Height(Inches)</th>\n",
       "      <th>Weight(Pounds)</th>\n",
       "      <th>Cluster</th>\n",
       "    </tr>\n",
       "  </thead>\n",
       "  <tbody>\n",
       "    <tr>\n",
       "      <td>2</td>\n",
       "      <td>3</td>\n",
       "      <td>69.39874</td>\n",
       "      <td>153.02690</td>\n",
       "      <td>-1</td>\n",
       "    </tr>\n",
       "    <tr>\n",
       "      <td>22</td>\n",
       "      <td>23</td>\n",
       "      <td>63.48115</td>\n",
       "      <td>97.90191</td>\n",
       "      <td>-1</td>\n",
       "    </tr>\n",
       "    <tr>\n",
       "      <td>30</td>\n",
       "      <td>31</td>\n",
       "      <td>69.52330</td>\n",
       "      <td>103.30160</td>\n",
       "      <td>-1</td>\n",
       "    </tr>\n",
       "    <tr>\n",
       "      <td>46</td>\n",
       "      <td>47</td>\n",
       "      <td>66.88088</td>\n",
       "      <td>145.68370</td>\n",
       "      <td>-1</td>\n",
       "    </tr>\n",
       "    <tr>\n",
       "      <td>56</td>\n",
       "      <td>57</td>\n",
       "      <td>70.40617</td>\n",
       "      <td>155.89870</td>\n",
       "      <td>-1</td>\n",
       "    </tr>\n",
       "    <tr>\n",
       "      <td>...</td>\n",
       "      <td>...</td>\n",
       "      <td>...</td>\n",
       "      <td>...</td>\n",
       "      <td>...</td>\n",
       "    </tr>\n",
       "    <tr>\n",
       "      <td>24947</td>\n",
       "      <td>24948</td>\n",
       "      <td>69.17056</td>\n",
       "      <td>154.78210</td>\n",
       "      <td>-1</td>\n",
       "    </tr>\n",
       "    <tr>\n",
       "      <td>24960</td>\n",
       "      <td>24961</td>\n",
       "      <td>68.92465</td>\n",
       "      <td>106.30210</td>\n",
       "      <td>-1</td>\n",
       "    </tr>\n",
       "    <tr>\n",
       "      <td>24969</td>\n",
       "      <td>24970</td>\n",
       "      <td>63.61791</td>\n",
       "      <td>115.74770</td>\n",
       "      <td>-1</td>\n",
       "    </tr>\n",
       "    <tr>\n",
       "      <td>24980</td>\n",
       "      <td>24981</td>\n",
       "      <td>69.79922</td>\n",
       "      <td>154.43990</td>\n",
       "      <td>-1</td>\n",
       "    </tr>\n",
       "    <tr>\n",
       "      <td>24991</td>\n",
       "      <td>24992</td>\n",
       "      <td>71.91656</td>\n",
       "      <td>128.28400</td>\n",
       "      <td>-1</td>\n",
       "    </tr>\n",
       "  </tbody>\n",
       "</table>\n",
       "<p>1654 rows × 4 columns</p>\n",
       "</div>"
      ],
      "text/plain": [
       "       Index  Height(Inches)  Weight(Pounds)  Cluster\n",
       "2          3        69.39874       153.02690       -1\n",
       "22        23        63.48115        97.90191       -1\n",
       "30        31        69.52330       103.30160       -1\n",
       "46        47        66.88088       145.68370       -1\n",
       "56        57        70.40617       155.89870       -1\n",
       "...      ...             ...             ...      ...\n",
       "24947  24948        69.17056       154.78210       -1\n",
       "24960  24961        68.92465       106.30210       -1\n",
       "24969  24970        63.61791       115.74770       -1\n",
       "24980  24981        69.79922       154.43990       -1\n",
       "24991  24992        71.91656       128.28400       -1\n",
       "\n",
       "[1654 rows x 4 columns]"
      ]
     },
     "execution_count": 235,
     "metadata": {},
     "output_type": "execute_result"
    }
   ],
   "source": [
    "df[df['Cluster']==-1]"
   ]
  },
  {
   "cell_type": "code",
   "execution_count": 236,
   "metadata": {},
   "outputs": [
    {
     "data": {
      "text/html": [
       "<div>\n",
       "<style scoped>\n",
       "    .dataframe tbody tr th:only-of-type {\n",
       "        vertical-align: middle;\n",
       "    }\n",
       "\n",
       "    .dataframe tbody tr th {\n",
       "        vertical-align: top;\n",
       "    }\n",
       "\n",
       "    .dataframe thead th {\n",
       "        text-align: right;\n",
       "    }\n",
       "</style>\n",
       "<table border=\"1\" class=\"dataframe\">\n",
       "  <thead>\n",
       "    <tr style=\"text-align: right;\">\n",
       "      <th></th>\n",
       "      <th>Index</th>\n",
       "      <th>Height(Inches)</th>\n",
       "      <th>Weight(Pounds)</th>\n",
       "      <th>Cluster</th>\n",
       "    </tr>\n",
       "  </thead>\n",
       "  <tbody>\n",
       "    <tr>\n",
       "      <td>2</td>\n",
       "      <td>3</td>\n",
       "      <td>69.39874</td>\n",
       "      <td>153.02690</td>\n",
       "      <td>-1</td>\n",
       "    </tr>\n",
       "    <tr>\n",
       "      <td>22</td>\n",
       "      <td>23</td>\n",
       "      <td>63.48115</td>\n",
       "      <td>97.90191</td>\n",
       "      <td>-1</td>\n",
       "    </tr>\n",
       "    <tr>\n",
       "      <td>30</td>\n",
       "      <td>31</td>\n",
       "      <td>69.52330</td>\n",
       "      <td>103.30160</td>\n",
       "      <td>-1</td>\n",
       "    </tr>\n",
       "    <tr>\n",
       "      <td>46</td>\n",
       "      <td>47</td>\n",
       "      <td>66.88088</td>\n",
       "      <td>145.68370</td>\n",
       "      <td>-1</td>\n",
       "    </tr>\n",
       "    <tr>\n",
       "      <td>56</td>\n",
       "      <td>57</td>\n",
       "      <td>70.40617</td>\n",
       "      <td>155.89870</td>\n",
       "      <td>-1</td>\n",
       "    </tr>\n",
       "  </tbody>\n",
       "</table>\n",
       "</div>"
      ],
      "text/plain": [
       "    Index  Height(Inches)  Weight(Pounds)  Cluster\n",
       "2       3        69.39874       153.02690       -1\n",
       "22     23        63.48115        97.90191       -1\n",
       "30     31        69.52330       103.30160       -1\n",
       "46     47        66.88088       145.68370       -1\n",
       "56     57        70.40617       155.89870       -1"
      ]
     },
     "execution_count": 236,
     "metadata": {},
     "output_type": "execute_result"
    }
   ],
   "source": [
    "df0=df[df['Cluster']==-1]\n",
    "df0.shape\n",
    "df0.head()"
   ]
  },
  {
   "cell_type": "code",
   "execution_count": 237,
   "metadata": {},
   "outputs": [
    {
     "data": {
      "text/html": [
       "<div>\n",
       "<style scoped>\n",
       "    .dataframe tbody tr th:only-of-type {\n",
       "        vertical-align: middle;\n",
       "    }\n",
       "\n",
       "    .dataframe tbody tr th {\n",
       "        vertical-align: top;\n",
       "    }\n",
       "\n",
       "    .dataframe thead th {\n",
       "        text-align: right;\n",
       "    }\n",
       "</style>\n",
       "<table border=\"1\" class=\"dataframe\">\n",
       "  <thead>\n",
       "    <tr style=\"text-align: right;\">\n",
       "      <th></th>\n",
       "      <th>Height(Inches)</th>\n",
       "      <th>Weight(Pounds)</th>\n",
       "    </tr>\n",
       "  </thead>\n",
       "  <tbody>\n",
       "    <tr>\n",
       "      <td>2</td>\n",
       "      <td>69.39874</td>\n",
       "      <td>153.02690</td>\n",
       "    </tr>\n",
       "    <tr>\n",
       "      <td>22</td>\n",
       "      <td>63.48115</td>\n",
       "      <td>97.90191</td>\n",
       "    </tr>\n",
       "    <tr>\n",
       "      <td>30</td>\n",
       "      <td>69.52330</td>\n",
       "      <td>103.30160</td>\n",
       "    </tr>\n",
       "    <tr>\n",
       "      <td>46</td>\n",
       "      <td>66.88088</td>\n",
       "      <td>145.68370</td>\n",
       "    </tr>\n",
       "    <tr>\n",
       "      <td>56</td>\n",
       "      <td>70.40617</td>\n",
       "      <td>155.89870</td>\n",
       "    </tr>\n",
       "  </tbody>\n",
       "</table>\n",
       "</div>"
      ],
      "text/plain": [
       "    Height(Inches)  Weight(Pounds)\n",
       "2         69.39874       153.02690\n",
       "22        63.48115        97.90191\n",
       "30        69.52330       103.30160\n",
       "46        66.88088       145.68370\n",
       "56        70.40617       155.89870"
      ]
     },
     "execution_count": 237,
     "metadata": {},
     "output_type": "execute_result"
    }
   ],
   "source": [
    "df0=df0.iloc[:,1:3]\n",
    "df0.head()"
   ]
  },
  {
   "cell_type": "code",
   "execution_count": 238,
   "metadata": {},
   "outputs": [
    {
     "data": {
      "text/html": [
       "<div>\n",
       "<style scoped>\n",
       "    .dataframe tbody tr th:only-of-type {\n",
       "        vertical-align: middle;\n",
       "    }\n",
       "\n",
       "    .dataframe tbody tr th {\n",
       "        vertical-align: top;\n",
       "    }\n",
       "\n",
       "    .dataframe thead th {\n",
       "        text-align: right;\n",
       "    }\n",
       "</style>\n",
       "<table border=\"1\" class=\"dataframe\">\n",
       "  <thead>\n",
       "    <tr style=\"text-align: right;\">\n",
       "      <th></th>\n",
       "      <th>0</th>\n",
       "      <th>1</th>\n",
       "    </tr>\n",
       "  </thead>\n",
       "  <tbody>\n",
       "    <tr>\n",
       "      <td>0</td>\n",
       "      <td>0.393181</td>\n",
       "      <td>1.168634</td>\n",
       "    </tr>\n",
       "    <tr>\n",
       "      <td>1</td>\n",
       "      <td>-1.226814</td>\n",
       "      <td>-1.252206</td>\n",
       "    </tr>\n",
       "    <tr>\n",
       "      <td>2</td>\n",
       "      <td>0.427281</td>\n",
       "      <td>-1.015076</td>\n",
       "    </tr>\n",
       "    <tr>\n",
       "      <td>3</td>\n",
       "      <td>-0.296106</td>\n",
       "      <td>0.846153</td>\n",
       "    </tr>\n",
       "    <tr>\n",
       "      <td>4</td>\n",
       "      <td>0.668974</td>\n",
       "      <td>1.294750</td>\n",
       "    </tr>\n",
       "    <tr>\n",
       "      <td>...</td>\n",
       "      <td>...</td>\n",
       "      <td>...</td>\n",
       "    </tr>\n",
       "    <tr>\n",
       "      <td>1649</td>\n",
       "      <td>0.330715</td>\n",
       "      <td>1.245714</td>\n",
       "    </tr>\n",
       "    <tr>\n",
       "      <td>1650</td>\n",
       "      <td>0.263395</td>\n",
       "      <td>-0.883308</td>\n",
       "    </tr>\n",
       "    <tr>\n",
       "      <td>1651</td>\n",
       "      <td>-1.189375</td>\n",
       "      <td>-0.468500</td>\n",
       "    </tr>\n",
       "    <tr>\n",
       "      <td>1652</td>\n",
       "      <td>0.502816</td>\n",
       "      <td>1.230686</td>\n",
       "    </tr>\n",
       "    <tr>\n",
       "      <td>1653</td>\n",
       "      <td>1.082458</td>\n",
       "      <td>0.082037</td>\n",
       "    </tr>\n",
       "  </tbody>\n",
       "</table>\n",
       "<p>1654 rows × 2 columns</p>\n",
       "</div>"
      ],
      "text/plain": [
       "             0         1\n",
       "0     0.393181  1.168634\n",
       "1    -1.226814 -1.252206\n",
       "2     0.427281 -1.015076\n",
       "3    -0.296106  0.846153\n",
       "4     0.668974  1.294750\n",
       "...        ...       ...\n",
       "1649  0.330715  1.245714\n",
       "1650  0.263395 -0.883308\n",
       "1651 -1.189375 -0.468500\n",
       "1652  0.502816  1.230686\n",
       "1653  1.082458  0.082037\n",
       "\n",
       "[1654 rows x 2 columns]"
      ]
     },
     "execution_count": 238,
     "metadata": {},
     "output_type": "execute_result"
    }
   ],
   "source": [
    "from sklearn.preprocessing import StandardScaler\n",
    "scaler = StandardScaler()\n",
    "df0_scaled=scaler.fit_transform(df0)\n",
    "df0_scaled=pd.DataFrame(df0_scaled)\n",
    "df0_scaled"
   ]
  },
  {
   "cell_type": "code",
   "execution_count": 239,
   "metadata": {},
   "outputs": [
    {
     "name": "stdout",
     "output_type": "stream",
     "text": [
      "             0\n",
      "0     0.393181\n",
      "1    -1.226814\n",
      "2     0.427281\n",
      "3    -0.296106\n",
      "4     0.668974\n",
      "...        ...\n",
      "1649  0.330715\n",
      "1650  0.263395\n",
      "1651 -1.189375\n",
      "1652  0.502816\n",
      "1653  1.082458\n",
      "\n",
      "[1654 rows x 1 columns]\n",
      "0       1.168634\n",
      "1      -1.252206\n",
      "2      -1.015076\n",
      "3       0.846153\n",
      "4       1.294750\n",
      "          ...   \n",
      "1649    1.245714\n",
      "1650   -0.883308\n",
      "1651   -0.468500\n",
      "1652    1.230686\n",
      "1653    0.082037\n",
      "Name: 1, Length: 1654, dtype: float64\n"
     ]
    }
   ],
   "source": [
    "X=df0_scaled.iloc[:,0:1]\n",
    "y=df0_scaled.iloc[:,-1]\n",
    "print(X)\n",
    "print(y)"
   ]
  },
  {
   "cell_type": "code",
   "execution_count": 316,
   "metadata": {},
   "outputs": [
    {
     "name": "stderr",
     "output_type": "stream",
     "text": [
      "C:\\Users\\Manish Kumar\\AppData\\Local\\Continuum\\anaconda3\\lib\\site-packages\\xgboost\\core.py:587: FutureWarning: Series.base is deprecated and will be removed in a future version\n",
      "  if getattr(data, 'base', None) is not None and \\\n"
     ]
    },
    {
     "data": {
      "text/plain": [
       "XGBRegressor(base_score=0.5, booster='gbtree', colsample_bylevel=1,\n",
       "             colsample_bynode=1, colsample_bytree=1, gamma=0,\n",
       "             importance_type='gain', learning_rate=0.1, max_delta_step=0,\n",
       "             max_depth=3, min_child_weight=1, missing=None, n_estimators=100,\n",
       "             n_jobs=1, nthread=None, objective='reg:squarederror',\n",
       "             random_state=0, reg_alpha=0, reg_lambda=1, scale_pos_weight=1,\n",
       "             seed=None, silent=None, subsample=1, verbosity=1)"
      ]
     },
     "execution_count": 316,
     "metadata": {},
     "output_type": "execute_result"
    }
   ],
   "source": [
    "from xgboost import XGBRegressor\n",
    "\n",
    "from sklearn.model_selection import train_test_split\n",
    "X_train, X_test, y_train, y_test = train_test_split(X, y, test_size = 0.2, random_state = 0)\n",
    "\n",
    "model = XGBRegressor(objective='reg:squarederror')\n",
    "model.fit(X_train, y_train)"
   ]
  },
  {
   "cell_type": "code",
   "execution_count": 245,
   "metadata": {},
   "outputs": [
    {
     "data": {
      "text/plain": [
       "0.2216546218929386"
      ]
     },
     "execution_count": 245,
     "metadata": {},
     "output_type": "execute_result"
    }
   ],
   "source": [
    "y_pred=model.predict(X_test)\n",
    "y_pred\n",
    "\n",
    "r2_score(y_test,y_pred)"
   ]
  },
  {
   "cell_type": "markdown",
   "metadata": {},
   "source": [
    "# Using Gaussian Mixture for Clustering"
   ]
  },
  {
   "cell_type": "code",
   "execution_count": 549,
   "metadata": {},
   "outputs": [],
   "source": [
    "df=pd.read_csv('data.csv')\n",
    "df.head()\n",
    "\n",
    "from sklearn.preprocessing import StandardScaler\n",
    "scaler=StandardScaler()\n",
    "df_scaled=scaler.fit_transform(df)\n",
    "df_scaled\n",
    "\n",
    "from sklearn.mixture import GaussianMixture\n",
    "gmm = GaussianMixture(n_components=6, covariance_type='full').fit(df_scaled)\n",
    "labels = gmm.predict(df_scaled)"
   ]
  },
  {
   "cell_type": "code",
   "execution_count": 550,
   "metadata": {},
   "outputs": [
    {
     "data": {
      "text/plain": [
       "array([2, 4, 4, ..., 5, 3, 3], dtype=int64)"
      ]
     },
     "execution_count": 550,
     "metadata": {},
     "output_type": "execute_result"
    }
   ],
   "source": [
    "labels"
   ]
  },
  {
   "cell_type": "code",
   "execution_count": 551,
   "metadata": {},
   "outputs": [
    {
     "data": {
      "text/html": [
       "<div>\n",
       "<style scoped>\n",
       "    .dataframe tbody tr th:only-of-type {\n",
       "        vertical-align: middle;\n",
       "    }\n",
       "\n",
       "    .dataframe tbody tr th {\n",
       "        vertical-align: top;\n",
       "    }\n",
       "\n",
       "    .dataframe thead th {\n",
       "        text-align: right;\n",
       "    }\n",
       "</style>\n",
       "<table border=\"1\" class=\"dataframe\">\n",
       "  <thead>\n",
       "    <tr style=\"text-align: right;\">\n",
       "      <th></th>\n",
       "      <th>0</th>\n",
       "      <th>1</th>\n",
       "      <th>2</th>\n",
       "    </tr>\n",
       "  </thead>\n",
       "  <tbody>\n",
       "    <tr>\n",
       "      <td>0</td>\n",
       "      <td>-1.731982</td>\n",
       "      <td>-1.162051</td>\n",
       "      <td>-1.208072</td>\n",
       "    </tr>\n",
       "    <tr>\n",
       "      <td>1</td>\n",
       "      <td>-1.731843</td>\n",
       "      <td>1.852136</td>\n",
       "      <td>0.806805</td>\n",
       "    </tr>\n",
       "    <tr>\n",
       "      <td>2</td>\n",
       "      <td>-1.731704</td>\n",
       "      <td>0.739165</td>\n",
       "      <td>2.225214</td>\n",
       "    </tr>\n",
       "    <tr>\n",
       "      <td>3</td>\n",
       "      <td>-1.731566</td>\n",
       "      <td>0.117523</td>\n",
       "      <td>1.308328</td>\n",
       "    </tr>\n",
       "    <tr>\n",
       "      <td>4</td>\n",
       "      <td>-1.731427</td>\n",
       "      <td>-0.107961</td>\n",
       "      <td>1.476561</td>\n",
       "    </tr>\n",
       "    <tr>\n",
       "      <td>...</td>\n",
       "      <td>...</td>\n",
       "      <td>...</td>\n",
       "      <td>...</td>\n",
       "    </tr>\n",
       "    <tr>\n",
       "      <td>24995</td>\n",
       "      <td>1.731427</td>\n",
       "      <td>0.793544</td>\n",
       "      <td>-0.775961</td>\n",
       "    </tr>\n",
       "    <tr>\n",
       "      <td>24996</td>\n",
       "      <td>1.731566</td>\n",
       "      <td>-1.811517</td>\n",
       "      <td>-0.590551</td>\n",
       "    </tr>\n",
       "    <tr>\n",
       "      <td>24997</td>\n",
       "      <td>1.731704</td>\n",
       "      <td>-1.732485</td>\n",
       "      <td>-0.755868</td>\n",
       "    </tr>\n",
       "    <tr>\n",
       "      <td>24998</td>\n",
       "      <td>1.731843</td>\n",
       "      <td>-0.243965</td>\n",
       "      <td>0.444981</td>\n",
       "    </tr>\n",
       "    <tr>\n",
       "      <td>24999</td>\n",
       "      <td>1.731982</td>\n",
       "      <td>0.465123</td>\n",
       "      <td>-0.189116</td>\n",
       "    </tr>\n",
       "  </tbody>\n",
       "</table>\n",
       "<p>25000 rows × 3 columns</p>\n",
       "</div>"
      ],
      "text/plain": [
       "              0         1         2\n",
       "0     -1.731982 -1.162051 -1.208072\n",
       "1     -1.731843  1.852136  0.806805\n",
       "2     -1.731704  0.739165  2.225214\n",
       "3     -1.731566  0.117523  1.308328\n",
       "4     -1.731427 -0.107961  1.476561\n",
       "...         ...       ...       ...\n",
       "24995  1.731427  0.793544 -0.775961\n",
       "24996  1.731566 -1.811517 -0.590551\n",
       "24997  1.731704 -1.732485 -0.755868\n",
       "24998  1.731843 -0.243965  0.444981\n",
       "24999  1.731982  0.465123 -0.189116\n",
       "\n",
       "[25000 rows x 3 columns]"
      ]
     },
     "execution_count": 551,
     "metadata": {},
     "output_type": "execute_result"
    }
   ],
   "source": [
    "df_scaled=pd.DataFrame(df_scaled)\n",
    "df_scaled"
   ]
  },
  {
   "cell_type": "code",
   "execution_count": 552,
   "metadata": {},
   "outputs": [
    {
     "data": {
      "text/html": [
       "<div>\n",
       "<style scoped>\n",
       "    .dataframe tbody tr th:only-of-type {\n",
       "        vertical-align: middle;\n",
       "    }\n",
       "\n",
       "    .dataframe tbody tr th {\n",
       "        vertical-align: top;\n",
       "    }\n",
       "\n",
       "    .dataframe thead th {\n",
       "        text-align: right;\n",
       "    }\n",
       "</style>\n",
       "<table border=\"1\" class=\"dataframe\">\n",
       "  <thead>\n",
       "    <tr style=\"text-align: right;\">\n",
       "      <th></th>\n",
       "      <th>1</th>\n",
       "      <th>2</th>\n",
       "      <th>Cluster</th>\n",
       "    </tr>\n",
       "  </thead>\n",
       "  <tbody>\n",
       "    <tr>\n",
       "      <td>0</td>\n",
       "      <td>-1.162051</td>\n",
       "      <td>-1.208072</td>\n",
       "      <td>2</td>\n",
       "    </tr>\n",
       "    <tr>\n",
       "      <td>1</td>\n",
       "      <td>1.852136</td>\n",
       "      <td>0.806805</td>\n",
       "      <td>4</td>\n",
       "    </tr>\n",
       "    <tr>\n",
       "      <td>2</td>\n",
       "      <td>0.739165</td>\n",
       "      <td>2.225214</td>\n",
       "      <td>4</td>\n",
       "    </tr>\n",
       "    <tr>\n",
       "      <td>3</td>\n",
       "      <td>0.117523</td>\n",
       "      <td>1.308328</td>\n",
       "      <td>4</td>\n",
       "    </tr>\n",
       "    <tr>\n",
       "      <td>4</td>\n",
       "      <td>-0.107961</td>\n",
       "      <td>1.476561</td>\n",
       "      <td>4</td>\n",
       "    </tr>\n",
       "  </tbody>\n",
       "</table>\n",
       "</div>"
      ],
      "text/plain": [
       "          1         2  Cluster\n",
       "0 -1.162051 -1.208072        2\n",
       "1  1.852136  0.806805        4\n",
       "2  0.739165  2.225214        4\n",
       "3  0.117523  1.308328        4\n",
       "4 -0.107961  1.476561        4"
      ]
     },
     "execution_count": 552,
     "metadata": {},
     "output_type": "execute_result"
    }
   ],
   "source": [
    "df_scaled['Cluster']=labels\n",
    "df_scaled=df_scaled.iloc[:,1:]\n",
    "df_scaled.head()"
   ]
  },
  {
   "cell_type": "code",
   "execution_count": 553,
   "metadata": {},
   "outputs": [
    {
     "data": {
      "text/html": [
       "<div>\n",
       "<style scoped>\n",
       "    .dataframe tbody tr th:only-of-type {\n",
       "        vertical-align: middle;\n",
       "    }\n",
       "\n",
       "    .dataframe tbody tr th {\n",
       "        vertical-align: top;\n",
       "    }\n",
       "\n",
       "    .dataframe thead th {\n",
       "        text-align: right;\n",
       "    }\n",
       "</style>\n",
       "<table border=\"1\" class=\"dataframe\">\n",
       "  <thead>\n",
       "    <tr style=\"text-align: right;\">\n",
       "      <th></th>\n",
       "      <th>Height(Inches)</th>\n",
       "      <th>Weight(Pounds)</th>\n",
       "      <th>Cluster</th>\n",
       "    </tr>\n",
       "  </thead>\n",
       "  <tbody>\n",
       "    <tr>\n",
       "      <td>0</td>\n",
       "      <td>-1.162051</td>\n",
       "      <td>-1.208072</td>\n",
       "      <td>2</td>\n",
       "    </tr>\n",
       "    <tr>\n",
       "      <td>1</td>\n",
       "      <td>1.852136</td>\n",
       "      <td>0.806805</td>\n",
       "      <td>4</td>\n",
       "    </tr>\n",
       "    <tr>\n",
       "      <td>2</td>\n",
       "      <td>0.739165</td>\n",
       "      <td>2.225214</td>\n",
       "      <td>4</td>\n",
       "    </tr>\n",
       "    <tr>\n",
       "      <td>3</td>\n",
       "      <td>0.117523</td>\n",
       "      <td>1.308328</td>\n",
       "      <td>4</td>\n",
       "    </tr>\n",
       "    <tr>\n",
       "      <td>4</td>\n",
       "      <td>-0.107961</td>\n",
       "      <td>1.476561</td>\n",
       "      <td>4</td>\n",
       "    </tr>\n",
       "  </tbody>\n",
       "</table>\n",
       "</div>"
      ],
      "text/plain": [
       "   Height(Inches)  Weight(Pounds)  Cluster\n",
       "0       -1.162051       -1.208072        2\n",
       "1        1.852136        0.806805        4\n",
       "2        0.739165        2.225214        4\n",
       "3        0.117523        1.308328        4\n",
       "4       -0.107961        1.476561        4"
      ]
     },
     "execution_count": 553,
     "metadata": {},
     "output_type": "execute_result"
    }
   ],
   "source": [
    "df_scaled.columns=['Height(Inches)','Weight(Pounds)','Cluster']\n",
    "df_scaled.head()"
   ]
  },
  {
   "cell_type": "code",
   "execution_count": 554,
   "metadata": {},
   "outputs": [
    {
     "data": {
      "text/plain": [
       "3    6364\n",
       "0    4402\n",
       "4    4065\n",
       "2    3879\n",
       "1    3369\n",
       "5    2921\n",
       "Name: Cluster, dtype: int64"
      ]
     },
     "execution_count": 554,
     "metadata": {},
     "output_type": "execute_result"
    }
   ],
   "source": [
    "df_scaled['Cluster'].value_counts()"
   ]
  },
  {
   "cell_type": "code",
   "execution_count": 555,
   "metadata": {},
   "outputs": [
    {
     "data": {
      "text/html": [
       "<div>\n",
       "<style scoped>\n",
       "    .dataframe tbody tr th:only-of-type {\n",
       "        vertical-align: middle;\n",
       "    }\n",
       "\n",
       "    .dataframe tbody tr th {\n",
       "        vertical-align: top;\n",
       "    }\n",
       "\n",
       "    .dataframe thead th {\n",
       "        text-align: right;\n",
       "    }\n",
       "</style>\n",
       "<table border=\"1\" class=\"dataframe\">\n",
       "  <thead>\n",
       "    <tr style=\"text-align: right;\">\n",
       "      <th></th>\n",
       "      <th>Height(Inches)</th>\n",
       "      <th>Weight(Pounds)</th>\n",
       "      <th>Cluster</th>\n",
       "    </tr>\n",
       "  </thead>\n",
       "  <tbody>\n",
       "    <tr>\n",
       "      <td>10</td>\n",
       "      <td>-0.791645</td>\n",
       "      <td>0.031917</td>\n",
       "      <td>0</td>\n",
       "    </tr>\n",
       "    <tr>\n",
       "      <td>12</td>\n",
       "      <td>0.162684</td>\n",
       "      <td>-0.125955</td>\n",
       "      <td>0</td>\n",
       "    </tr>\n",
       "    <tr>\n",
       "      <td>16</td>\n",
       "      <td>-0.805680</td>\n",
       "      <td>0.207782</td>\n",
       "      <td>0</td>\n",
       "    </tr>\n",
       "    <tr>\n",
       "      <td>23</td>\n",
       "      <td>0.225467</td>\n",
       "      <td>0.207817</td>\n",
       "      <td>0</td>\n",
       "    </tr>\n",
       "    <tr>\n",
       "      <td>24</td>\n",
       "      <td>-0.191978</td>\n",
       "      <td>1.266710</td>\n",
       "      <td>0</td>\n",
       "    </tr>\n",
       "    <tr>\n",
       "      <td>...</td>\n",
       "      <td>...</td>\n",
       "      <td>...</td>\n",
       "      <td>...</td>\n",
       "    </tr>\n",
       "    <tr>\n",
       "      <td>14139</td>\n",
       "      <td>-1.149925</td>\n",
       "      <td>0.618248</td>\n",
       "      <td>0</td>\n",
       "    </tr>\n",
       "    <tr>\n",
       "      <td>14180</td>\n",
       "      <td>-0.422931</td>\n",
       "      <td>1.066653</td>\n",
       "      <td>0</td>\n",
       "    </tr>\n",
       "    <tr>\n",
       "      <td>14316</td>\n",
       "      <td>-1.263348</td>\n",
       "      <td>1.272018</td>\n",
       "      <td>0</td>\n",
       "    </tr>\n",
       "    <tr>\n",
       "      <td>14356</td>\n",
       "      <td>-0.999786</td>\n",
       "      <td>1.339579</td>\n",
       "      <td>0</td>\n",
       "    </tr>\n",
       "    <tr>\n",
       "      <td>14452</td>\n",
       "      <td>-1.056043</td>\n",
       "      <td>1.161467</td>\n",
       "      <td>0</td>\n",
       "    </tr>\n",
       "  </tbody>\n",
       "</table>\n",
       "<p>4402 rows × 3 columns</p>\n",
       "</div>"
      ],
      "text/plain": [
       "       Height(Inches)  Weight(Pounds)  Cluster\n",
       "10          -0.791645        0.031917        0\n",
       "12           0.162684       -0.125955        0\n",
       "16          -0.805680        0.207782        0\n",
       "23           0.225467        0.207817        0\n",
       "24          -0.191978        1.266710        0\n",
       "...               ...             ...      ...\n",
       "14139       -1.149925        0.618248        0\n",
       "14180       -0.422931        1.066653        0\n",
       "14316       -1.263348        1.272018        0\n",
       "14356       -0.999786        1.339579        0\n",
       "14452       -1.056043        1.161467        0\n",
       "\n",
       "[4402 rows x 3 columns]"
      ]
     },
     "execution_count": 555,
     "metadata": {},
     "output_type": "execute_result"
    }
   ],
   "source": [
    "df0=df_scaled[df_scaled['Cluster']==0]\n",
    "df0"
   ]
  },
  {
   "cell_type": "code",
   "execution_count": 556,
   "metadata": {},
   "outputs": [
    {
     "data": {
      "text/plain": [
       "<matplotlib.collections.PathCollection at 0x1af832ea108>"
      ]
     },
     "execution_count": 556,
     "metadata": {},
     "output_type": "execute_result"
    },
    {
     "data": {
      "image/png": "[encoded data removed]",
      "text/plain": [
       "<Figure size 432x288 with 1 Axes>"
      ]
     },
     "metadata": {
      "needs_background": "light"
     },
     "output_type": "display_data"
    }
   ],
   "source": [
    "df0=df_scaled[df_scaled['Cluster']==0]\n",
    "df1=df_scaled[df_scaled['Cluster']==1]\n",
    "df2=df_scaled[df_scaled['Cluster']==2]\n",
    "df3=df_scaled[df_scaled['Cluster']==3]\n",
    "df4=df_scaled[df_scaled['Cluster']==4]\n",
    "df5=df_scaled[df_scaled['Cluster']==5]\n",
    "\n",
    "df0=df0.iloc[:,0:2]\n",
    "df1=df1.iloc[:,0:2]\n",
    "df2=df2.iloc[:,0:2]\n",
    "df3=df3.iloc[:,0:2]\n",
    "df4=df4.iloc[:,0:2]\n",
    "df5=df5.iloc[:,0:2]\n",
    "\n",
    "plt.scatter(df0['Height(Inches)'],df0['Weight(Pounds)'], color='red')\n",
    "plt.scatter(df1['Height(Inches)'],df1['Weight(Pounds)'], color='blue')\n",
    "plt.scatter(df2['Height(Inches)'],df2['Weight(Pounds)'], color='pink')\n",
    "plt.scatter(df3['Height(Inches)'],df3['Weight(Pounds)'], color='purple')\n",
    "plt.scatter(df4['Height(Inches)'],df4['Weight(Pounds)'], color='black')\n",
    "plt.scatter(df5['Height(Inches)'],df5['Weight(Pounds)'], color='magenta')"
   ]
  },
  {
   "cell_type": "code",
   "execution_count": 544,
   "metadata": {},
   "outputs": [
    {
     "data": {
      "text/html": [
       "<div>\n",
       "<style scoped>\n",
       "    .dataframe tbody tr th:only-of-type {\n",
       "        vertical-align: middle;\n",
       "    }\n",
       "\n",
       "    .dataframe tbody tr th {\n",
       "        vertical-align: top;\n",
       "    }\n",
       "\n",
       "    .dataframe thead th {\n",
       "        text-align: right;\n",
       "    }\n",
       "</style>\n",
       "<table border=\"1\" class=\"dataframe\">\n",
       "  <thead>\n",
       "    <tr style=\"text-align: right;\">\n",
       "      <th></th>\n",
       "      <th>Height(Inches)</th>\n",
       "      <th>Weight(Pounds)</th>\n",
       "    </tr>\n",
       "  </thead>\n",
       "  <tbody>\n",
       "    <tr>\n",
       "      <td>0</td>\n",
       "      <td>-1.162051</td>\n",
       "      <td>-1.208072</td>\n",
       "    </tr>\n",
       "    <tr>\n",
       "      <td>8</td>\n",
       "      <td>-0.047571</td>\n",
       "      <td>-1.261259</td>\n",
       "    </tr>\n",
       "    <tr>\n",
       "      <td>9</td>\n",
       "      <td>-0.636689</td>\n",
       "      <td>-0.549902</td>\n",
       "    </tr>\n",
       "    <tr>\n",
       "      <td>10</td>\n",
       "      <td>-0.791645</td>\n",
       "      <td>0.031917</td>\n",
       "    </tr>\n",
       "    <tr>\n",
       "      <td>11</td>\n",
       "      <td>-0.194455</td>\n",
       "      <td>-1.109407</td>\n",
       "    </tr>\n",
       "    <tr>\n",
       "      <td>...</td>\n",
       "      <td>...</td>\n",
       "      <td>...</td>\n",
       "    </tr>\n",
       "    <tr>\n",
       "      <td>24988</td>\n",
       "      <td>-0.994795</td>\n",
       "      <td>-2.032339</td>\n",
       "    </tr>\n",
       "    <tr>\n",
       "      <td>24993</td>\n",
       "      <td>-0.945759</td>\n",
       "      <td>-0.710253</td>\n",
       "    </tr>\n",
       "    <tr>\n",
       "      <td>24994</td>\n",
       "      <td>-0.411147</td>\n",
       "      <td>0.049815</td>\n",
       "    </tr>\n",
       "    <tr>\n",
       "      <td>24996</td>\n",
       "      <td>-1.811517</td>\n",
       "      <td>-0.590551</td>\n",
       "    </tr>\n",
       "    <tr>\n",
       "      <td>24997</td>\n",
       "      <td>-1.732485</td>\n",
       "      <td>-0.755868</td>\n",
       "    </tr>\n",
       "  </tbody>\n",
       "</table>\n",
       "<p>12717 rows × 2 columns</p>\n",
       "</div>"
      ],
      "text/plain": [
       "       Height(Inches)  Weight(Pounds)\n",
       "0           -1.162051       -1.208072\n",
       "8           -0.047571       -1.261259\n",
       "9           -0.636689       -0.549902\n",
       "10          -0.791645        0.031917\n",
       "11          -0.194455       -1.109407\n",
       "...               ...             ...\n",
       "24988       -0.994795       -2.032339\n",
       "24993       -0.945759       -0.710253\n",
       "24994       -0.411147        0.049815\n",
       "24996       -1.811517       -0.590551\n",
       "24997       -1.732485       -0.755868\n",
       "\n",
       "[12717 rows x 2 columns]"
      ]
     },
     "execution_count": 544,
     "metadata": {},
     "output_type": "execute_result"
    }
   ],
   "source": [
    "df0"
   ]
  },
  {
   "cell_type": "code",
   "execution_count": 572,
   "metadata": {},
   "outputs": [
    {
     "name": "stdout",
     "output_type": "stream",
     "text": [
      "       Height(Inches)\n",
      "9876        -3.519542\n",
      "10136       -1.883507\n",
      "10159       -2.142972\n",
      "10455       -2.622826\n",
      "10517       -2.046929\n",
      "...               ...\n",
      "24983       -2.215689\n",
      "24988       -0.994795\n",
      "24993       -0.945759\n",
      "24996       -1.811517\n",
      "24997       -1.732485\n",
      "\n",
      "[2921 rows x 1 columns]\n",
      "9876    -0.531490\n",
      "10136   -0.255279\n",
      "10159   -0.050985\n",
      "10455   -0.937821\n",
      "10517   -0.515178\n",
      "           ...   \n",
      "24983   -1.336830\n",
      "24988   -2.032339\n",
      "24993   -0.710253\n",
      "24996   -0.590551\n",
      "24997   -0.755868\n",
      "Name: Weight(Pounds), Length: 2921, dtype: float64\n"
     ]
    }
   ],
   "source": [
    "X=df5.iloc[:,0:1]\n",
    "y=df5.iloc[:,-1]\n",
    "print(X)\n",
    "print(y)"
   ]
  },
  {
   "cell_type": "code",
   "execution_count": 573,
   "metadata": {},
   "outputs": [
    {
     "name": "stderr",
     "output_type": "stream",
     "text": [
      "C:\\Users\\Manish Kumar\\AppData\\Local\\Continuum\\anaconda3\\lib\\site-packages\\xgboost\\core.py:587: FutureWarning: Series.base is deprecated and will be removed in a future version\n",
      "  if getattr(data, 'base', None) is not None and \\\n"
     ]
    },
    {
     "data": {
      "text/plain": [
       "XGBRegressor(base_score=0.5, booster='gbtree', colsample_bylevel=1,\n",
       "             colsample_bynode=1, colsample_bytree=1, gamma=0,\n",
       "             importance_type='gain', learning_rate=0.1, max_delta_step=0,\n",
       "             max_depth=3, min_child_weight=1, missing=None, n_estimators=100,\n",
       "             n_jobs=1, nthread=None, objective='reg:squarederror',\n",
       "             random_state=0, reg_alpha=0, reg_lambda=1, scale_pos_weight=1,\n",
       "             seed=None, silent=None, subsample=1, verbosity=1)"
      ]
     },
     "execution_count": 573,
     "metadata": {},
     "output_type": "execute_result"
    }
   ],
   "source": [
    "from xgboost import XGBRegressor\n",
    "\n",
    "from sklearn.model_selection import train_test_split\n",
    "X_train, X_test, y_train, y_test = train_test_split(X, y, test_size = 0.2, random_state = 0)\n",
    "\n",
    "model = XGBRegressor(objective='reg:squarederror')\n",
    "model.fit(X_train, y_train)"
   ]
  },
  {
   "cell_type": "code",
   "execution_count": 574,
   "metadata": {},
   "outputs": [
    {
     "data": {
      "text/plain": [
       "0.11624944034566309"
      ]
     },
     "execution_count": 574,
     "metadata": {},
     "output_type": "execute_result"
    }
   ],
   "source": [
    "y_pred=model.predict(X_test)\n",
    "y_pred\n",
    "\n",
    "r2_score(y_test,y_pred)"
   ]
  }
 ],
 "metadata": {
  "kernelspec": {
   "display_name": "Python 3",
   "language": "python",
   "name": "python3"
  },
  "language_info": {
   "codemirror_mode": {
    "name": "ipython",
    "version": 3
   },
   "file_extension": ".py",
   "mimetype": "text/x-python",
   "name": "python",
   "nbconvert_exporter": "python",
   "pygments_lexer": "ipython3",
   "version": "3.7.4"
  }
 },
 "nbformat": 4,
 "nbformat_minor": 2
}
