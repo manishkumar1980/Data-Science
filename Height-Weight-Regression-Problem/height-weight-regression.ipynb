{
 "cells": [
  {
   "cell_type": "code",
   "execution_count": 136,
   "metadata": {},
   "outputs": [],
   "source": [
    "import os\n",
    "import pandas as pd\n",
    "import numpy as np\n",
    "import matplotlib.pyplot as plt\n",
    "import csv\n",
    "import math"
   ]
  },
  {
   "cell_type": "code",
   "execution_count": 137,
   "metadata": {},
   "outputs": [],
   "source": [
    "os.chdir(\"C:\\\\Users\\\\kumarma\\\\My Codebase\\\\Height-Weight-Regression-Problem\")\n",
    "df=pd.read_csv('data.csv')"
   ]
  },
  {
   "cell_type": "code",
   "execution_count": 138,
   "metadata": {},
   "outputs": [],
   "source": [
    "#df=df.iloc[:,1:3]\n",
    "#df=df[df['Height(Inches)']>70]\n",
    "#df"
   ]
  },
  {
   "cell_type": "code",
   "execution_count": 139,
   "metadata": {},
   "outputs": [
    {
     "name": "stdout",
     "output_type": "stream",
     "text": [
      "<class 'pandas.core.frame.DataFrame'>\n",
      "RangeIndex: 25000 entries, 0 to 24999\n",
      "Data columns (total 3 columns):\n",
      "Index             25000 non-null int64\n",
      "Height(Inches)    25000 non-null float64\n",
      "Weight(Pounds)    25000 non-null float64\n",
      "dtypes: float64(2), int64(1)\n",
      "memory usage: 586.1 KB\n"
     ]
    }
   ],
   "source": [
    "df.info()"
   ]
  },
  {
   "cell_type": "code",
   "execution_count": 140,
   "metadata": {},
   "outputs": [
    {
     "data": {
      "text/html": [
       "<div>\n",
       "<style scoped>\n",
       "    .dataframe tbody tr th:only-of-type {\n",
       "        vertical-align: middle;\n",
       "    }\n",
       "\n",
       "    .dataframe tbody tr th {\n",
       "        vertical-align: top;\n",
       "    }\n",
       "\n",
       "    .dataframe thead th {\n",
       "        text-align: right;\n",
       "    }\n",
       "</style>\n",
       "<table border=\"1\" class=\"dataframe\">\n",
       "  <thead>\n",
       "    <tr style=\"text-align: right;\">\n",
       "      <th></th>\n",
       "      <th>Index</th>\n",
       "      <th>Height(Inches)</th>\n",
       "      <th>Weight(Pounds)</th>\n",
       "    </tr>\n",
       "  </thead>\n",
       "  <tbody>\n",
       "    <tr>\n",
       "      <th>0</th>\n",
       "      <td>1</td>\n",
       "      <td>65.78331</td>\n",
       "      <td>112.9925</td>\n",
       "    </tr>\n",
       "    <tr>\n",
       "      <th>1</th>\n",
       "      <td>2</td>\n",
       "      <td>71.51521</td>\n",
       "      <td>136.4873</td>\n",
       "    </tr>\n",
       "    <tr>\n",
       "      <th>2</th>\n",
       "      <td>3</td>\n",
       "      <td>69.39874</td>\n",
       "      <td>153.0269</td>\n",
       "    </tr>\n",
       "    <tr>\n",
       "      <th>3</th>\n",
       "      <td>4</td>\n",
       "      <td>68.21660</td>\n",
       "      <td>142.3354</td>\n",
       "    </tr>\n",
       "    <tr>\n",
       "      <th>4</th>\n",
       "      <td>5</td>\n",
       "      <td>67.78781</td>\n",
       "      <td>144.2971</td>\n",
       "    </tr>\n",
       "  </tbody>\n",
       "</table>\n",
       "</div>"
      ],
      "text/plain": [
       "   Index  Height(Inches)  Weight(Pounds)\n",
       "0      1        65.78331        112.9925\n",
       "1      2        71.51521        136.4873\n",
       "2      3        69.39874        153.0269\n",
       "3      4        68.21660        142.3354\n",
       "4      5        67.78781        144.2971"
      ]
     },
     "execution_count": 140,
     "metadata": {},
     "output_type": "execute_result"
    }
   ],
   "source": [
    "df.head()"
   ]
  },
  {
   "cell_type": "code",
   "execution_count": 141,
   "metadata": {},
   "outputs": [],
   "source": [
    "df=df.iloc[:,1:]\n",
    "#df.head()"
   ]
  },
  {
   "cell_type": "code",
   "execution_count": 142,
   "metadata": {},
   "outputs": [
    {
     "data": {
      "text/html": [
       "<div>\n",
       "<style scoped>\n",
       "    .dataframe tbody tr th:only-of-type {\n",
       "        vertical-align: middle;\n",
       "    }\n",
       "\n",
       "    .dataframe tbody tr th {\n",
       "        vertical-align: top;\n",
       "    }\n",
       "\n",
       "    .dataframe thead th {\n",
       "        text-align: right;\n",
       "    }\n",
       "</style>\n",
       "<table border=\"1\" class=\"dataframe\">\n",
       "  <thead>\n",
       "    <tr style=\"text-align: right;\">\n",
       "      <th></th>\n",
       "      <th>Height(Inches)</th>\n",
       "      <th>Weight(Pounds)</th>\n",
       "    </tr>\n",
       "  </thead>\n",
       "  <tbody>\n",
       "    <tr>\n",
       "      <th>count</th>\n",
       "      <td>25000.000000</td>\n",
       "      <td>25000.000000</td>\n",
       "    </tr>\n",
       "    <tr>\n",
       "      <th>mean</th>\n",
       "      <td>67.993114</td>\n",
       "      <td>127.079421</td>\n",
       "    </tr>\n",
       "    <tr>\n",
       "      <th>std</th>\n",
       "      <td>1.901679</td>\n",
       "      <td>11.660898</td>\n",
       "    </tr>\n",
       "    <tr>\n",
       "      <th>min</th>\n",
       "      <td>60.278360</td>\n",
       "      <td>78.014760</td>\n",
       "    </tr>\n",
       "    <tr>\n",
       "      <th>25%</th>\n",
       "      <td>66.704397</td>\n",
       "      <td>119.308675</td>\n",
       "    </tr>\n",
       "    <tr>\n",
       "      <th>50%</th>\n",
       "      <td>67.995700</td>\n",
       "      <td>127.157750</td>\n",
       "    </tr>\n",
       "    <tr>\n",
       "      <th>75%</th>\n",
       "      <td>69.272958</td>\n",
       "      <td>134.892850</td>\n",
       "    </tr>\n",
       "    <tr>\n",
       "      <th>max</th>\n",
       "      <td>75.152800</td>\n",
       "      <td>170.924000</td>\n",
       "    </tr>\n",
       "  </tbody>\n",
       "</table>\n",
       "</div>"
      ],
      "text/plain": [
       "       Height(Inches)  Weight(Pounds)\n",
       "count    25000.000000    25000.000000\n",
       "mean        67.993114      127.079421\n",
       "std          1.901679       11.660898\n",
       "min         60.278360       78.014760\n",
       "25%         66.704397      119.308675\n",
       "50%         67.995700      127.157750\n",
       "75%         69.272958      134.892850\n",
       "max         75.152800      170.924000"
      ]
     },
     "execution_count": 142,
     "metadata": {},
     "output_type": "execute_result"
    }
   ],
   "source": [
    "df.describe()"
   ]
  },
  {
   "cell_type": "code",
   "execution_count": 143,
   "metadata": {},
   "outputs": [],
   "source": [
    "#Function to draw Histogram and Blxplot for all Measures and Bar Graph for all the Dimensions\n",
    "\n",
    "def analyze_data (df):\n",
    "    import pandas as pd\n",
    "    import numpy as np\n",
    "    import matplotlib.pyplot as plt\n",
    "    import seaborn as sns\n",
    "    \n",
    "\n",
    "    for i in list (df.columns):\n",
    "        #Histogram and #BoxPlot\n",
    "        if (df[i].dtype in ['float64','int64']):\n",
    "            df.hist(column=i,grid=False,figsize=(10,8))\n",
    "            plt.savefig(str(i)+\"_histogram.png\")\n",
    "            #plt.show()\n",
    "            plt.close()\n",
    "        #Box Plot\n",
    "            df.boxplot(column=i,grid=False,figsize=(10,8))\n",
    "            plt.savefig(str(i)+\"_boxplot.png\")\n",
    "            plt.close()\n",
    "        else:\n",
    "        #Bar Graph\n",
    "            sns.countplot(df[i])\n",
    "            plt.savefig(str(i)+\"_bar_graph.png\")\n",
    "            plt.close()"
   ]
  },
  {
   "cell_type": "code",
   "execution_count": 144,
   "metadata": {},
   "outputs": [],
   "source": [
    "#Creating the summary file\n",
    "\n",
    "def count_nulls_outliers(df):\n",
    "    x=df[df.columns].describe(include='all')\n",
    "    x.to_csv('summary.csv')\n",
    "\n",
    "    #Finding count of the missing values\n",
    "    row=['missing values']\n",
    "    for i in list(df.columns):\n",
    "        row.append(df[i].isnull().sum())\n",
    "\n",
    "    with open('summary.csv','a') as csvfile:\n",
    "        writer = csv.writer(csvfile)\n",
    "        writer.writerow(row)\n",
    "    csvfile.close()\n",
    "    print(row)\n",
    "    \n",
    "    #Finding the count of outliers\n",
    "    row1=['outliers']\n",
    "    for i in list(df.columns):\n",
    "        if df[i].dtype in ('int64', 'float64'):\n",
    "            row1.append((df[i] > (df.loc[:,i].mean() + (df.loc[:,i].std()*3))).sum())\n",
    "        else:\n",
    "            row1.append('NA')\n",
    "        \n",
    "    with open('summary.csv','a') as csvfile:\n",
    "        writer = csv.writer(csvfile)\n",
    "        writer.writerow(row1)\n",
    "    csvfile.close()\n",
    "    print(row1)"
   ]
  },
  {
   "cell_type": "code",
   "execution_count": 145,
   "metadata": {},
   "outputs": [],
   "source": [
    "#Calling the analyze_data function with the data frame\n",
    "\n",
    "analyze_data(df)"
   ]
  },
  {
   "cell_type": "code",
   "execution_count": 146,
   "metadata": {},
   "outputs": [
    {
     "name": "stdout",
     "output_type": "stream",
     "text": [
      "['missing values', 0, 0]\n",
      "['outliers', 33, 29]\n"
     ]
    }
   ],
   "source": [
    "#Calling the count_nulls_outliers function with the data frame\n",
    "\n",
    "count_nulls_outliers(df)"
   ]
  },
  {
   "cell_type": "code",
   "execution_count": 147,
   "metadata": {},
   "outputs": [],
   "source": [
    "df1=df[df['Height(Inches)'] > (df.loc[:,'Height(Inches)'].mean() + (df.loc[:,'Height(Inches)'].std()*3))]\n",
    "df2=df[df['Weight(Pounds)'] > (df.loc[:,'Weight(Pounds)'].mean() + (df.loc[:,'Weight(Pounds)'].std()*3))]"
   ]
  },
  {
   "cell_type": "code",
   "execution_count": 148,
   "metadata": {},
   "outputs": [
    {
     "name": "stdout",
     "output_type": "stream",
     "text": [
      "(25000, 2)\n",
      "Height(Inches)    33\n",
      "Weight(Pounds)    33\n",
      "dtype: int64\n",
      "Height(Inches)    29\n",
      "Weight(Pounds)    29\n",
      "dtype: int64\n",
      "Height Outliers\n",
      "       Height(Inches)  Weight(Pounds)\n",
      "138          73.90107        151.3913\n",
      "174          73.83364        139.2983\n",
      "1162         74.24899        150.2167\n",
      "1383         74.19488        129.0597\n",
      "1893         75.15280        146.9701\n",
      "2395         73.99549        142.9016\n",
      "2481         75.11519        153.9562\n",
      "4191         74.03777        139.5953\n",
      "4508         74.28376        147.7877\n",
      "6627         73.72628        142.8110\n",
      "7269         73.81695        140.0915\n",
      "7839         73.85521        136.0667\n",
      "8472         73.95409        145.2695\n",
      "8828         74.27270        144.6600\n",
      "9225         73.75335        153.1022\n",
      "9492         74.05895        133.8172\n",
      "10330        74.36328        164.6643\n",
      "10635        73.88574        135.9816\n",
      "11173        74.16797        142.7732\n",
      "13681        74.74047        155.5462\n",
      "14063        74.04804        149.6303\n",
      "15209        74.59993        147.0372\n",
      "15966        74.25069        150.0567\n",
      "16145        74.47517        130.9092\n",
      "16385        73.88318        134.2179\n",
      "16752        74.84890        122.1664\n",
      "17079        74.29570        170.5479\n",
      "19005        74.01942        124.2312\n",
      "21949        74.42744        141.7416\n",
      "22471        74.51784        146.9867\n",
      "22769        74.19842        141.6148\n",
      "23039        73.95494        154.3987\n",
      "24801        74.53177        148.9104\n",
      "Weight Outliers\n",
      "       Height(Inches)  Weight(Pounds)\n",
      "367          72.32489        168.2290\n",
      "446          69.16807        162.4109\n",
      "1332         72.52115        162.8737\n",
      "3923         68.98184        162.1526\n",
      "4053         70.03532        162.0645\n",
      "4343         73.52131        168.8810\n",
      "4624         71.78019        166.3016\n",
      "5394         70.75604        166.2812\n",
      "6118         70.42781        165.7172\n",
      "6384         71.25946        164.5588\n",
      "6506         70.32828        163.8992\n",
      "7996         69.57329        169.1268\n",
      "9823         71.61882        165.8716\n",
      "9925         70.47453        165.8150\n",
      "9957         73.17710        162.3663\n",
      "10234        70.71295        170.9240\n",
      "10330        74.36328        164.6643\n",
      "11753        70.38460        166.7687\n",
      "11819        71.73550        162.0943\n",
      "11974        71.26903        166.1956\n",
      "12883        71.58499        167.8045\n",
      "13738        71.23640        165.4348\n",
      "14514        70.95412        162.4844\n",
      "15097        70.20879        163.8728\n",
      "15474        71.40250        163.3466\n",
      "16126        67.56548        164.5865\n",
      "17079        74.29570        170.5479\n",
      "20308        72.59665        165.6900\n",
      "21007        70.33089        164.4539\n",
      "<class 'pandas.core.frame.DataFrame'>\n",
      "RangeIndex: 25000 entries, 0 to 24999\n",
      "Data columns (total 2 columns):\n",
      "Height(Inches)    25000 non-null float64\n",
      "Weight(Pounds)    25000 non-null float64\n",
      "dtypes: float64(2)\n",
      "memory usage: 390.8 KB\n",
      "None\n",
      "(25000, 2)\n"
     ]
    }
   ],
   "source": [
    "print(df.shape)\n",
    "print(df1.count())\n",
    "print(df2.count())\n",
    "print('Height Outliers')\n",
    "print(df1)\n",
    "print('Weight Outliers')\n",
    "print(df2)\n",
    "print(df.info())\n",
    "print(df.shape)"
   ]
  },
  {
   "cell_type": "code",
   "execution_count": 149,
   "metadata": {},
   "outputs": [],
   "source": [
    "#Looking at the outlier values they seem to be legit, so no outlier treament is required\n",
    "#Also, since there are no null values, that also does not need to be traeted as well"
   ]
  },
  {
   "cell_type": "code",
   "execution_count": 150,
   "metadata": {},
   "outputs": [
    {
     "name": "stdout",
     "output_type": "stream",
     "text": [
      "Height\n",
      "======\n",
      "[[65.78331]\n",
      " [71.51521]\n",
      " [69.39874]\n",
      " ...\n",
      " [64.69855]\n",
      " [67.52918]\n",
      " [68.87761]]\n",
      "Weight\n",
      "======\n",
      "[112.9925 136.4873 153.0269 ... 118.2655 132.2682 124.8742]\n"
     ]
    }
   ],
   "source": [
    "# Implementing Simple Linear Regression\n",
    "\n",
    "# Importing the dataset\n",
    "X = df.iloc[:, :-1].values\n",
    "y = df.iloc[:, 1].values\n",
    "print('Height')\n",
    "print('======')\n",
    "print (X)\n",
    "print('Weight')\n",
    "print('======')\n",
    "print (y)"
   ]
  },
  {
   "cell_type": "code",
   "execution_count": 151,
   "metadata": {},
   "outputs": [],
   "source": [
    "# Splitting the dataset into the Training set and Test set\n",
    "from sklearn.cross_validation import train_test_split\n",
    "X_train, X_test, y_train, y_test = train_test_split(X, y, test_size = 0.20, random_state = 0)\n"
   ]
  },
  {
   "cell_type": "code",
   "execution_count": 152,
   "metadata": {},
   "outputs": [
    {
     "data": {
      "image/png": "[encoded data removed]",
      "text/plain": [
       "<Figure size 432x288 with 1 Axes>"
      ]
     },
     "metadata": {},
     "output_type": "display_data"
    },
    {
     "data": {
      "image/png": "[encoded data removed]",
      "text/plain": [
       "<Figure size 432x288 with 1 Axes>"
      ]
     },
     "metadata": {},
     "output_type": "display_data"
    }
   ],
   "source": [
    "# Fitting Simple Linear Regression to the Training set\n",
    "from sklearn.linear_model import LinearRegression\n",
    "regressor = LinearRegression()\n",
    "regressor.fit(X_train, y_train)\n",
    "\n",
    "# Predicting the Test set results\n",
    "y_pred = regressor.predict(X_test)\n",
    "\n",
    "# Visualising the Training set results\n",
    "plt.scatter(X_train, y_train, color = 'red')\n",
    "plt.plot(X_train, regressor.predict(X_train), color = 'blue')\n",
    "plt.title('Height vs Weight (Training set)')\n",
    "plt.xlabel('Height')\n",
    "plt.ylabel('Weight')\n",
    "plt.show()\n",
    "\n",
    "# Visualising the Test set results\n",
    "plt.scatter(X_test, y_test, color = 'red')\n",
    "plt.plot(X_train, regressor.predict(X_train), color = 'blue')\n",
    "plt.title('Height vs Weight (Test set)')\n",
    "plt.xlabel('Height')\n",
    "plt.ylabel('Weight')\n",
    "plt.show()"
   ]
  },
  {
   "cell_type": "code",
   "execution_count": 153,
   "metadata": {},
   "outputs": [
    {
     "data": {
      "text/plain": [
       "array([134.2032, 141.6617, 111.6239, ..., 133.2004, 159.9584, 127.9335])"
      ]
     },
     "execution_count": 153,
     "metadata": {},
     "output_type": "execute_result"
    }
   ],
   "source": [
    "y_test"
   ]
  },
  {
   "cell_type": "code",
   "execution_count": 154,
   "metadata": {},
   "outputs": [
    {
     "data": {
      "text/plain": [
       "array([123.33549794, 134.00612771, 124.67667359, ..., 125.68063341,\n",
       "       130.43237501, 123.04698086])"
      ]
     },
     "execution_count": 154,
     "metadata": {},
     "output_type": "execute_result"
    }
   ],
   "source": [
    "y_pred"
   ]
  },
  {
   "cell_type": "code",
   "execution_count": 155,
   "metadata": {},
   "outputs": [
    {
     "name": "stdout",
     "output_type": "stream",
     "text": [
      "MSE = 105.05298919282606\n",
      "RMSE = 10.249536047686552\n",
      "R-Squared = 0.25883302999241287\n",
      "Regressor Score = 0.25283197078206754\n"
     ]
    }
   ],
   "source": [
    "regressor.intercept_\n",
    "regressor.coef_\n",
    "\n",
    "from sklearn.metrics import mean_squared_error\n",
    "MSE=mean_squared_error(y_test, y_pred)\n",
    "print('MSE = ' + str(MSE))\n",
    "RMSE=math.sqrt(MSE)\n",
    "print('RMSE = ' + str(RMSE))\n",
    "\n",
    "from sklearn.metrics import r2_score\n",
    "r2=r2_score(y_test, y_pred, multioutput='variance_weighted')\n",
    "print('R-Squared = '+ str(r2))\n",
    "\n",
    "#from sklearn.metrics import \n",
    "\n",
    "print('Regressor Score = ' + str(regressor.score(X,y)))"
   ]
  },
  {
   "cell_type": "code",
   "execution_count": 190,
   "metadata": {},
   "outputs": [
    {
     "name": "stdout",
     "output_type": "stream",
     "text": [
      "[[65.78331]\n",
      " [71.51521]\n",
      " [69.39874]\n",
      " ...\n",
      " [64.69855]\n",
      " [67.52918]\n",
      " [68.87761]]\n",
      "[112.9925 136.4873 153.0269 ... 118.2655 132.2682 124.8742]\n"
     ]
    }
   ],
   "source": [
    "# Outlier removal\n",
    "df=pd.read_csv('data.csv')\n",
    "df=df.drop(['Index'],axis=1)\n",
    "df=df[df['Height(Inches)'] < ((df.loc[:,'Height(Inches)'].mean() + (df.loc[:,'Height(Inches)'].std()*3)))]\n",
    "df=df[df['Height(Inches)'] > ((df.loc[:,'Height(Inches)'].mean() - (df.loc[:,'Height(Inches)'].std()*3)))]\n",
    "df=df[df['Weight(Pounds)'] < ((df.loc[:,'Weight(Pounds)'].mean() + (df.loc[:,'Weight(Pounds)'].std()*3)))]\n",
    "df=df[df['Weight(Pounds)'] > ((df.loc[:,'Weight(Pounds)'].mean() - (df.loc[:,'Weight(Pounds)'].std()*3)))]\n",
    "X=df.iloc[:,:-1].values\n",
    "y=df.iloc[:,1].values\n",
    "print(X)\n",
    "print(y)"
   ]
  },
  {
   "cell_type": "code",
   "execution_count": 191,
   "metadata": {},
   "outputs": [
    {
     "data": {
      "text/plain": [
       "(24882, 2)"
      ]
     },
     "execution_count": 191,
     "metadata": {},
     "output_type": "execute_result"
    }
   ],
   "source": [
    "df.shape"
   ]
  },
  {
   "cell_type": "code",
   "execution_count": 192,
   "metadata": {},
   "outputs": [],
   "source": [
    "#Creating the Training and the Test Set\n",
    "from sklearn.cross_validation import train_test_split\n",
    "X_train, X_test, y_train, y_test = train_test_split(X, y, test_size=1/3, random_state=0)"
   ]
  },
  {
   "cell_type": "code",
   "execution_count": 193,
   "metadata": {},
   "outputs": [],
   "source": [
    "from sklearn.linear_model import LinearRegression\n",
    "regressor=LinearRegression()\n",
    "regressor.fit(X_train, y_train)\n",
    "\n",
    "y_pred=regressor.predict(X_test)"
   ]
  },
  {
   "cell_type": "code",
   "execution_count": 194,
   "metadata": {},
   "outputs": [
    {
     "name": "stdout",
     "output_type": "stream",
     "text": [
      "MSE = 98.8343981655001\n",
      "RMSE = 9.941549082788864\n",
      "R-Squared = 0.24399368932936683\n",
      "Regressor Score: 0.2441229792414632\n"
     ]
    }
   ],
   "source": [
    "regressor.intercept_\n",
    "regressor.coef_\n",
    "\n",
    "from sklearn.metrics import mean_squared_error\n",
    "MSE=mean_squared_error(y_test, y_pred)\n",
    "print('MSE = ' + str(MSE))\n",
    "RMSE=math.sqrt(MSE)\n",
    "print('RMSE = ' + str(RMSE))\n",
    "\n",
    "from sklearn.metrics import r2_score\n",
    "r2=r2_score(y_test, y_pred, multioutput='variance_weighted')\n",
    "print('R-Squared = '+ str(r2))\n",
    "\n",
    "#from sklearn.metrics import \n",
    "\n",
    "print('Regressor Score: ' + str(regressor.score(X,y)))"
   ]
  },
  {
   "cell_type": "code",
   "execution_count": 195,
   "metadata": {},
   "outputs": [
    {
     "data": {
      "image/png": "[encoded data removed]",
      "text/plain": [
       "<Figure size 432x288 with 1 Axes>"
      ]
     },
     "metadata": {},
     "output_type": "display_data"
    }
   ],
   "source": [
    "plt.scatter(X_train, y_train, color='red')\n",
    "plt.plot(X_train, regressor.predict(X_train), color='blue')\n",
    "plt.show()\n",
    "plt.close()"
   ]
  },
  {
   "cell_type": "code",
   "execution_count": 196,
   "metadata": {},
   "outputs": [
    {
     "data": {
      "image/png": "[encoded data removed]",
      "text/plain": [
       "<Figure size 432x288 with 1 Axes>"
      ]
     },
     "metadata": {},
     "output_type": "display_data"
    }
   ],
   "source": [
    "plt.scatter(X_test, y_test, color='red')\n",
    "plt.plot(X_train, regressor.predict(X_train), color='blue')\n",
    "plt.show()\n",
    "plt.close()"
   ]
  },
  {
   "cell_type": "markdown",
   "metadata": {},
   "source": [
    "So it is observed that:\n",
    "\n",
    "R-Squared - Before removing Outliers was 0.2581\n",
    "\n",
    "R-Squared - After removing Outliers was 0.2439"
   ]
  },
  {
   "cell_type": "markdown",
   "metadata": {},
   "source": [
    "I think I should first see the distribution of data Height to understand the data better"
   ]
  },
  {
   "cell_type": "code",
   "execution_count": 197,
   "metadata": {},
   "outputs": [
    {
     "data": {
      "image/png": "[encoded data removed]",
      "text/plain": [
       "<Figure size 432x288 with 1 Axes>"
      ]
     },
     "metadata": {},
     "output_type": "display_data"
    }
   ],
   "source": [
    "plt.hist(X)\n",
    "plt.xlabel('Height Buckets')\n",
    "plt.ylabel('Height Counts')\n",
    "plt.show()\n",
    "plt.close()"
   ]
  },
  {
   "cell_type": "code",
   "execution_count": 198,
   "metadata": {},
   "outputs": [
    {
     "data": {
      "image/png": "[encoded data removed]",
      "text/plain": [
       "<Figure size 432x288 with 1 Axes>"
      ]
     },
     "metadata": {},
     "output_type": "display_data"
    }
   ],
   "source": [
    "plt.hist(y)\n",
    "plt.xlabel('Weight Buckets')\n",
    "plt.ylabel('Weight Counts')\n",
    "plt.show()\n",
    "plt.close()"
   ]
  },
  {
   "cell_type": "code",
   "execution_count": 216,
   "metadata": {},
   "outputs": [
    {
     "name": "stdout",
     "output_type": "stream",
     "text": [
      "Std Dev : 1.9016407372498432\n",
      "Skewness: 0.03890637043946492\n",
      "Co-eff of Skewness : 0.00022011823308324636\n",
      "Curtosis : 38.76868868417956\n",
      "Co-eff of Custosis : 10.720725271261609\n"
     ]
    }
   ],
   "source": [
    "standard_deviation = math.sqrt((((X.mean() - X) ** 2).sum()) / 25000)\n",
    "skewness = (((X.mean() - X) ** 3).sum()) / 25000\n",
    "curtosis = (((X.mean() - X) ** 4).sum()) / 25000\n",
    "\n",
    "skewness_coefficient = (skewness ** 2) / (standard_deviation ** 3)\n",
    "curtosis_coefficient = curtosis / (standard_deviation ** 2)\n",
    "\n",
    "print('Std Dev : ' + str(standard_deviation))\n",
    "print('Skewness: ' + str(skewness))\n",
    "print('Co-eff of Skewness : '+ str(skewness_coefficient))\n",
    "print('Curtosis : ' + str(curtosis))\n",
    "print('Co-eff of Custosis : '+str(curtosis_coefficient))"
   ]
  },
  {
   "cell_type": "markdown",
   "metadata": {},
   "source": [
    "Skewness co-efficient refernce:\n",
    "1. Between -0.5 to +0.5 ==> Fairly Symmetrical\n",
    "2. Between -1.0 to -0.5 or +0.5 to +1.0 ==> Moderately Skewed\n",
    "3. <-1.0 or >+1.0 - Highly Skewed\n",
    "\n",
    "Custosis co-efficient refernce:\n",
    "1. Normal Distribution = 3 i.e. Mesokurtic\n",
    "2. >3 - Heavier Tails (with lots of outliers) i.e. Leptokurtic\n",
    "3. <3 - Lighter Tails (With less or no outliers) i.e. platycurtic"
   ]
  },
  {
   "cell_type": "markdown",
   "metadata": {},
   "source": [
    "# Let's see how Random Forest predicts the weights"
   ]
  },
  {
   "cell_type": "code",
   "execution_count": 200,
   "metadata": {},
   "outputs": [
    {
     "name": "stdout",
     "output_type": "stream",
     "text": [
      "[[65.78331]\n",
      " [71.51521]\n",
      " [69.39874]\n",
      " ...\n",
      " [64.69855]\n",
      " [67.52918]\n",
      " [68.87761]]\n",
      "[112.9925 136.4873 153.0269 ... 118.2655 132.2682 124.8742]\n"
     ]
    }
   ],
   "source": [
    "df=pd.read_csv('Data.csv')\n",
    "X=df.iloc[:,1:2].values\n",
    "y=df.iloc[:,2].values\n",
    "print(X)\n",
    "print(y)"
   ]
  },
  {
   "cell_type": "code",
   "execution_count": 201,
   "metadata": {},
   "outputs": [],
   "source": [
    "from sklearn.model_selection import train_test_split\n",
    "X_train, X_test, y_train, y_test = train_test_split(X, y, test_size = 0.2, random_state = 0)\n",
    "#X_train=X_train.reshape(-1,1)\n",
    "#y_train=y_train.reshape(-1,1)\n",
    "#X_test=X_test.reshape(-1,1)\n",
    "#y_test=y_test.reshape(-1,1)"
   ]
  },
  {
   "cell_type": "code",
   "execution_count": 202,
   "metadata": {},
   "outputs": [
    {
     "name": "stdout",
     "output_type": "stream",
     "text": [
      "[[67.46994]\n",
      " [66.50874]\n",
      " [69.39596]\n",
      " ...\n",
      " [63.93049]\n",
      " [66.97528]\n",
      " [69.77321]]\n",
      "[121.8602 132.745  131.8885 ... 108.3559 133.7971 143.6484]\n",
      "[[66.75233]\n",
      " [70.23626]\n",
      " [67.19022]\n",
      " ...\n",
      " [67.51801]\n",
      " [69.06944]\n",
      " [66.65813]]\n",
      "[134.2032 141.6617 111.6239 ... 133.2004 159.9584 127.9335]\n"
     ]
    }
   ],
   "source": [
    "print(X_train)\n",
    "print(y_train)\n",
    "print(X_test)\n",
    "print(y_test)"
   ]
  },
  {
   "cell_type": "code",
   "execution_count": 203,
   "metadata": {},
   "outputs": [
    {
     "name": "stdout",
     "output_type": "stream",
     "text": [
      "R-Squared = -0.06170015335564605\n"
     ]
    }
   ],
   "source": [
    "from sklearn.ensemble import RandomForestRegressor\n",
    "regressor=RandomForestRegressor()\n",
    "\n",
    "#for i in range(1, 150):\n",
    "regressor = RandomForestRegressor(n_estimators=150, random_state=0)\n",
    "regressor.fit(X_train, y_train)\n",
    "y_pred=regressor.predict(X_test)\n",
    "r2=r2_score(y_test, y_pred, multioutput='variance_weighted')\n",
    "print('R-Squared = ' + str(r2))"
   ]
  },
  {
   "cell_type": "code",
   "execution_count": 204,
   "metadata": {},
   "outputs": [
    {
     "name": "stdout",
     "output_type": "stream",
     "text": [
      "Regressor Score: -0.34484194238825694\n"
     ]
    }
   ],
   "source": [
    "print('Regressor Score: ' + str(regressor.score(y_test.reshape(-1,1),y_pred)))"
   ]
  },
  {
   "cell_type": "code",
   "execution_count": 205,
   "metadata": {},
   "outputs": [
    {
     "name": "stdout",
     "output_type": "stream",
     "text": [
      "[134.2032 141.6617 111.6239 ... 133.2004 159.9584 127.9335]\n",
      "[131.10096667 126.88048333 125.31579667 ... 124.889018   139.07283533\n",
      " 118.96792267]\n"
     ]
    }
   ],
   "source": [
    "print(y_test)\n",
    "print(y_pred)"
   ]
  },
  {
   "cell_type": "code",
   "execution_count": 206,
   "metadata": {},
   "outputs": [
    {
     "name": "stdout",
     "output_type": "stream",
     "text": [
      "        y_test\n",
      "0     134.2032\n",
      "1     141.6617\n",
      "2     111.6239\n",
      "3     118.2317\n",
      "4     102.6027\n",
      "...        ...\n",
      "4995  135.6229\n",
      "4996  150.5815\n",
      "4997  133.2004\n",
      "4998  159.9584\n",
      "4999  127.9335\n",
      "\n",
      "[5000 rows x 1 columns]\n",
      "        y_test      y_pred\n",
      "0     134.2032  131.100967\n",
      "1     141.6617  126.880483\n",
      "2     111.6239  125.315797\n",
      "3     118.2317  134.018157\n",
      "4     102.6027  122.534229\n",
      "...        ...         ...\n",
      "4995  135.6229  129.302226\n",
      "4996  150.5815  129.377105\n",
      "4997  133.2004  124.889018\n",
      "4998  159.9584  139.072835\n",
      "4999  127.9335  118.967923\n",
      "\n",
      "[5000 rows x 2 columns]\n"
     ]
    }
   ],
   "source": [
    "df_val=pd.DataFrame()\n",
    "df_val['y_test']=y_test\n",
    "print(df_val)\n",
    "df_val['y_pred']=y_pred\n",
    "print(df_val)"
   ]
  },
  {
   "cell_type": "code",
   "execution_count": 207,
   "metadata": {},
   "outputs": [],
   "source": [
    "df_val.to_csv('Predictions-using-random-forest.csv')"
   ]
  },
  {
   "cell_type": "markdown",
   "metadata": {},
   "source": [
    "# Using SV"
   ]
  },
  {
   "cell_type": "code",
   "execution_count": 210,
   "metadata": {},
   "outputs": [
    {
     "name": "stdout",
     "output_type": "stream",
     "text": [
      "0.25578619247636947\n",
      "-0.0021623640112831133\n"
     ]
    }
   ],
   "source": [
    "# Fitting SVR to the dataset\n",
    "from sklearn.svm import SVR\n",
    "regressor = SVR(kernel = 'rbf')\n",
    "regressor.fit(X_train, y_train)\n",
    "\n",
    "# Predicting a new result\n",
    "y_pred = regressor.predict(X_test.reshape(-1,1))\n",
    "\n",
    "\n",
    "r2=r2_score(y_test, y_pred, multioutput='variance_weighted')\n",
    "\n",
    "print(r2)\n",
    "\n",
    "score=regressor.score(y_test.reshape(-1,1),y_pred)\n",
    "print (score)"
   ]
  },
  {
   "cell_type": "markdown",
   "metadata": {},
   "source": [
    "# Using Polynomial Regression"
   ]
  },
  {
   "cell_type": "code",
   "execution_count": 211,
   "metadata": {},
   "outputs": [
    {
     "data": {
      "text/plain": [
       "LinearRegression(copy_X=True, fit_intercept=False, n_jobs=1, normalize=True)"
      ]
     },
     "execution_count": 211,
     "metadata": {},
     "output_type": "execute_result"
    }
   ],
   "source": [
    "# Fitting Polynomial Regression to the dataset\n",
    "from sklearn.preprocessing import PolynomialFeatures\n",
    "\n",
    "poly_reg = PolynomialFeatures(degree = 3)\n",
    "X_poly = poly_reg.fit_transform(X_train)\n",
    "poly_reg.fit(X_poly, y_train)\n",
    "\n",
    "lin_reg_2 = LinearRegression(fit_intercept=False, normalize=True)\n",
    "lin_reg_2.fit(X_poly, y_train)"
   ]
  },
  {
   "cell_type": "code",
   "execution_count": 212,
   "metadata": {},
   "outputs": [],
   "source": [
    "y_pred=lin_reg_2.predict(poly_reg.fit_transform(X_test))"
   ]
  },
  {
   "cell_type": "code",
   "execution_count": 213,
   "metadata": {},
   "outputs": [
    {
     "name": "stdout",
     "output_type": "stream",
     "text": [
      "0.2587588945760039\n"
     ]
    }
   ],
   "source": [
    "r2=r2_score(y_test,y_pred,multioutput='variance_weighted')\n",
    "print(r2)"
   ]
  },
  {
   "cell_type": "code",
   "execution_count": null,
   "metadata": {},
   "outputs": [],
   "source": []
  }
 ],
 "metadata": {
  "kernelspec": {
   "display_name": "Python 3",
   "language": "python",
   "name": "python3"
  },
  "language_info": {
   "codemirror_mode": {
    "name": "ipython",
    "version": 3
   },
   "file_extension": ".py",
   "mimetype": "text/x-python",
   "name": "python",
   "nbconvert_exporter": "python",
   "pygments_lexer": "ipython3",
   "version": "3.5.5"
  }
 },
 "nbformat": 4,
 "nbformat_minor": 2
}
