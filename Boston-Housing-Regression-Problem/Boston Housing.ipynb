{
 "cells": [
  {
   "cell_type": "markdown",
   "metadata": {},
   "source": [
    "# Import the required libraries"
   ]
  },
  {
   "cell_type": "code",
   "execution_count": 1,
   "metadata": {
    "collapsed": true
   },
   "outputs": [],
   "source": [
    "import pandas as pd\n",
    "import numpy as np\n",
    "import matplotlib.pyplot as plt\n",
    "import os\n",
    "import seaborn as sns"
   ]
  },
  {
   "cell_type": "markdown",
   "metadata": {},
   "source": [
    "# Change Working Directory to where the data file resides"
   ]
  },
  {
   "cell_type": "code",
   "execution_count": 2,
   "metadata": {
    "collapsed": true
   },
   "outputs": [],
   "source": [
    "os.chdir(\"C:\\\\users\\\\kumarma\\\\My Codebase\\\\git\\\\Boston Housing\")\n",
    "df=pd.read_csv(\"data.csv\")"
   ]
  },
  {
   "cell_type": "markdown",
   "metadata": {},
   "source": [
    "# Inspect the data in general and do some pre-processing activities\n",
    "\n",
    "This includes:\n",
    "1. checking the shape i.e. Number of rows and columns for the data\n",
    "2. Checking for Null Values"
   ]
  },
  {
   "cell_type": "code",
   "execution_count": 3,
   "metadata": {},
   "outputs": [
    {
     "data": {
      "text/plain": [
       "(506, 14)"
      ]
     },
     "execution_count": 3,
     "metadata": {},
     "output_type": "execute_result"
    }
   ],
   "source": [
    "df.shape"
   ]
  },
  {
   "cell_type": "code",
   "execution_count": 4,
   "metadata": {},
   "outputs": [
    {
     "data": {
      "text/html": [
       "<div>\n",
       "<style>\n",
       "    .dataframe thead tr:only-child th {\n",
       "        text-align: right;\n",
       "    }\n",
       "\n",
       "    .dataframe thead th {\n",
       "        text-align: left;\n",
       "    }\n",
       "\n",
       "    .dataframe tbody tr th {\n",
       "        vertical-align: top;\n",
       "    }\n",
       "</style>\n",
       "<table border=\"1\" class=\"dataframe\">\n",
       "  <thead>\n",
       "    <tr style=\"text-align: right;\">\n",
       "      <th></th>\n",
       "      <th>CRIM</th>\n",
       "      <th>ZN</th>\n",
       "      <th>INDUS</th>\n",
       "      <th>CHAS</th>\n",
       "      <th>NOX</th>\n",
       "      <th>RM</th>\n",
       "      <th>AGE</th>\n",
       "      <th>DIS</th>\n",
       "      <th>RAD</th>\n",
       "      <th>TAX</th>\n",
       "      <th>PTRATIO</th>\n",
       "      <th>B</th>\n",
       "      <th>LSTAT</th>\n",
       "      <th>MEDV</th>\n",
       "    </tr>\n",
       "  </thead>\n",
       "  <tbody>\n",
       "    <tr>\n",
       "      <th>0</th>\n",
       "      <td>0.00632</td>\n",
       "      <td>18.0</td>\n",
       "      <td>2.31</td>\n",
       "      <td>0.0</td>\n",
       "      <td>0.538</td>\n",
       "      <td>6.575</td>\n",
       "      <td>65.2</td>\n",
       "      <td>4.0900</td>\n",
       "      <td>1</td>\n",
       "      <td>296.0</td>\n",
       "      <td>15.3</td>\n",
       "      <td>396.90</td>\n",
       "      <td>4.98</td>\n",
       "      <td>24.0</td>\n",
       "    </tr>\n",
       "    <tr>\n",
       "      <th>1</th>\n",
       "      <td>0.02731</td>\n",
       "      <td>0.0</td>\n",
       "      <td>7.07</td>\n",
       "      <td>0.0</td>\n",
       "      <td>0.469</td>\n",
       "      <td>6.421</td>\n",
       "      <td>78.9</td>\n",
       "      <td>4.9671</td>\n",
       "      <td>2</td>\n",
       "      <td>242.0</td>\n",
       "      <td>17.8</td>\n",
       "      <td>396.90</td>\n",
       "      <td>9.14</td>\n",
       "      <td>21.6</td>\n",
       "    </tr>\n",
       "    <tr>\n",
       "      <th>2</th>\n",
       "      <td>0.02729</td>\n",
       "      <td>0.0</td>\n",
       "      <td>7.07</td>\n",
       "      <td>0.0</td>\n",
       "      <td>0.469</td>\n",
       "      <td>7.185</td>\n",
       "      <td>61.1</td>\n",
       "      <td>4.9671</td>\n",
       "      <td>2</td>\n",
       "      <td>242.0</td>\n",
       "      <td>17.8</td>\n",
       "      <td>392.83</td>\n",
       "      <td>4.03</td>\n",
       "      <td>34.7</td>\n",
       "    </tr>\n",
       "    <tr>\n",
       "      <th>3</th>\n",
       "      <td>0.03237</td>\n",
       "      <td>0.0</td>\n",
       "      <td>2.18</td>\n",
       "      <td>0.0</td>\n",
       "      <td>0.458</td>\n",
       "      <td>6.998</td>\n",
       "      <td>45.8</td>\n",
       "      <td>6.0622</td>\n",
       "      <td>3</td>\n",
       "      <td>222.0</td>\n",
       "      <td>18.7</td>\n",
       "      <td>394.63</td>\n",
       "      <td>2.94</td>\n",
       "      <td>33.4</td>\n",
       "    </tr>\n",
       "    <tr>\n",
       "      <th>4</th>\n",
       "      <td>0.06905</td>\n",
       "      <td>0.0</td>\n",
       "      <td>2.18</td>\n",
       "      <td>0.0</td>\n",
       "      <td>0.458</td>\n",
       "      <td>7.147</td>\n",
       "      <td>54.2</td>\n",
       "      <td>6.0622</td>\n",
       "      <td>3</td>\n",
       "      <td>222.0</td>\n",
       "      <td>18.7</td>\n",
       "      <td>396.90</td>\n",
       "      <td>5.33</td>\n",
       "      <td>36.2</td>\n",
       "    </tr>\n",
       "    <tr>\n",
       "      <th>5</th>\n",
       "      <td>0.02985</td>\n",
       "      <td>0.0</td>\n",
       "      <td>2.18</td>\n",
       "      <td>0.0</td>\n",
       "      <td>0.458</td>\n",
       "      <td>6.430</td>\n",
       "      <td>58.7</td>\n",
       "      <td>6.0622</td>\n",
       "      <td>3</td>\n",
       "      <td>222.0</td>\n",
       "      <td>18.7</td>\n",
       "      <td>394.12</td>\n",
       "      <td>5.21</td>\n",
       "      <td>28.7</td>\n",
       "    </tr>\n",
       "    <tr>\n",
       "      <th>6</th>\n",
       "      <td>0.08829</td>\n",
       "      <td>12.5</td>\n",
       "      <td>7.87</td>\n",
       "      <td>0.0</td>\n",
       "      <td>0.524</td>\n",
       "      <td>6.012</td>\n",
       "      <td>66.6</td>\n",
       "      <td>5.5605</td>\n",
       "      <td>5</td>\n",
       "      <td>311.0</td>\n",
       "      <td>15.2</td>\n",
       "      <td>395.60</td>\n",
       "      <td>12.43</td>\n",
       "      <td>22.9</td>\n",
       "    </tr>\n",
       "    <tr>\n",
       "      <th>7</th>\n",
       "      <td>0.14455</td>\n",
       "      <td>12.5</td>\n",
       "      <td>7.87</td>\n",
       "      <td>0.0</td>\n",
       "      <td>0.524</td>\n",
       "      <td>6.172</td>\n",
       "      <td>96.1</td>\n",
       "      <td>5.9505</td>\n",
       "      <td>5</td>\n",
       "      <td>311.0</td>\n",
       "      <td>15.2</td>\n",
       "      <td>396.90</td>\n",
       "      <td>19.15</td>\n",
       "      <td>27.1</td>\n",
       "    </tr>\n",
       "    <tr>\n",
       "      <th>8</th>\n",
       "      <td>0.21124</td>\n",
       "      <td>12.5</td>\n",
       "      <td>7.87</td>\n",
       "      <td>0.0</td>\n",
       "      <td>0.524</td>\n",
       "      <td>5.631</td>\n",
       "      <td>100.0</td>\n",
       "      <td>6.0821</td>\n",
       "      <td>5</td>\n",
       "      <td>311.0</td>\n",
       "      <td>15.2</td>\n",
       "      <td>386.63</td>\n",
       "      <td>29.93</td>\n",
       "      <td>16.5</td>\n",
       "    </tr>\n",
       "    <tr>\n",
       "      <th>9</th>\n",
       "      <td>0.17004</td>\n",
       "      <td>12.5</td>\n",
       "      <td>7.87</td>\n",
       "      <td>0.0</td>\n",
       "      <td>0.524</td>\n",
       "      <td>6.004</td>\n",
       "      <td>85.9</td>\n",
       "      <td>6.5921</td>\n",
       "      <td>5</td>\n",
       "      <td>311.0</td>\n",
       "      <td>15.2</td>\n",
       "      <td>386.71</td>\n",
       "      <td>17.10</td>\n",
       "      <td>18.9</td>\n",
       "    </tr>\n",
       "  </tbody>\n",
       "</table>\n",
       "</div>"
      ],
      "text/plain": [
       "      CRIM    ZN  INDUS  CHAS    NOX     RM    AGE     DIS  RAD    TAX  \\\n",
       "0  0.00632  18.0   2.31   0.0  0.538  6.575   65.2  4.0900    1  296.0   \n",
       "1  0.02731   0.0   7.07   0.0  0.469  6.421   78.9  4.9671    2  242.0   \n",
       "2  0.02729   0.0   7.07   0.0  0.469  7.185   61.1  4.9671    2  242.0   \n",
       "3  0.03237   0.0   2.18   0.0  0.458  6.998   45.8  6.0622    3  222.0   \n",
       "4  0.06905   0.0   2.18   0.0  0.458  7.147   54.2  6.0622    3  222.0   \n",
       "5  0.02985   0.0   2.18   0.0  0.458  6.430   58.7  6.0622    3  222.0   \n",
       "6  0.08829  12.5   7.87   0.0  0.524  6.012   66.6  5.5605    5  311.0   \n",
       "7  0.14455  12.5   7.87   0.0  0.524  6.172   96.1  5.9505    5  311.0   \n",
       "8  0.21124  12.5   7.87   0.0  0.524  5.631  100.0  6.0821    5  311.0   \n",
       "9  0.17004  12.5   7.87   0.0  0.524  6.004   85.9  6.5921    5  311.0   \n",
       "\n",
       "   PTRATIO       B  LSTAT  MEDV  \n",
       "0     15.3  396.90   4.98  24.0  \n",
       "1     17.8  396.90   9.14  21.6  \n",
       "2     17.8  392.83   4.03  34.7  \n",
       "3     18.7  394.63   2.94  33.4  \n",
       "4     18.7  396.90   5.33  36.2  \n",
       "5     18.7  394.12   5.21  28.7  \n",
       "6     15.2  395.60  12.43  22.9  \n",
       "7     15.2  396.90  19.15  27.1  \n",
       "8     15.2  386.63  29.93  16.5  \n",
       "9     15.2  386.71  17.10  18.9  "
      ]
     },
     "execution_count": 4,
     "metadata": {},
     "output_type": "execute_result"
    }
   ],
   "source": [
    "df.head(10)"
   ]
  },
  {
   "cell_type": "code",
   "execution_count": 5,
   "metadata": {
    "scrolled": true
   },
   "outputs": [
    {
     "name": "stdout",
     "output_type": "stream",
     "text": [
      "Null Values\n",
      "CRIM : 0\n",
      "ZN : 0\n",
      "INDUS : 0\n",
      "CHAS : 0\n",
      "NOX : 0\n",
      "RM : 0\n",
      "AGE : 0\n",
      "DIS : 0\n",
      "RAD : 0\n",
      "TAX : 0\n",
      "PTRATIO : 54\n",
      "B : 0\n",
      "LSTAT : 0\n",
      "MEDV : 0\n"
     ]
    }
   ],
   "source": [
    "print(\"Null Values\")\n",
    "for cols in df.columns:\n",
    "    null_count=df[cols].isnull().sum()\n",
    "    print(cols + \" : \" + str(null_count))"
   ]
  },
  {
   "cell_type": "markdown",
   "metadata": {},
   "source": [
    "# PTRATIO field needs to be treated for NULL values as there exist 54 such records.\n",
    "Replacing them with Mean value of the same column"
   ]
  },
  {
   "cell_type": "code",
   "execution_count": 7,
   "metadata": {
    "collapsed": true
   },
   "outputs": [],
   "source": [
    "from sklearn.preprocessing import Imputer\n",
    "imputer=Imputer(missing_values='NaN',strategy='mean',axis=0)\n",
    "imputer=imputer.fit(df.iloc[:,10:11])\n",
    "df.iloc[:,10:11]=imputer.transform(df.iloc[:,10:11])"
   ]
  },
  {
   "cell_type": "code",
   "execution_count": 8,
   "metadata": {},
   "outputs": [
    {
     "name": "stdout",
     "output_type": "stream",
     "text": [
      "Null Values\n",
      "CRIM : 0\n",
      "ZN : 0\n",
      "INDUS : 0\n",
      "CHAS : 0\n",
      "NOX : 0\n",
      "RM : 0\n",
      "AGE : 0\n",
      "DIS : 0\n",
      "RAD : 0\n",
      "TAX : 0\n",
      "PTRATIO : 0\n",
      "B : 0\n",
      "LSTAT : 0\n",
      "MEDV : 0\n"
     ]
    }
   ],
   "source": [
    "print(\"Null Values\")\n",
    "for cols in df.columns:\n",
    "    null_count=df[cols].isnull().sum()\n",
    "    print(cols + \" : \" + str(null_count))"
   ]
  },
  {
   "cell_type": "markdown",
   "metadata": {},
   "source": [
    "# Selecting the independent and Dependent variables\n",
    "All fields strating from CRIM to LSTAT are independent variables, and the one on the right most i.e. MEDV is the dependent variable."
   ]
  },
  {
   "cell_type": "code",
   "execution_count": 7,
   "metadata": {
    "collapsed": true
   },
   "outputs": [],
   "source": [
    "x=df.iloc[:,0:13]\n",
    "y=df.iloc[:,13]"
   ]
  },
  {
   "cell_type": "code",
   "execution_count": 8,
   "metadata": {},
   "outputs": [
    {
     "data": {
      "text/html": [
       "<div>\n",
       "<style>\n",
       "    .dataframe thead tr:only-child th {\n",
       "        text-align: right;\n",
       "    }\n",
       "\n",
       "    .dataframe thead th {\n",
       "        text-align: left;\n",
       "    }\n",
       "\n",
       "    .dataframe tbody tr th {\n",
       "        vertical-align: top;\n",
       "    }\n",
       "</style>\n",
       "<table border=\"1\" class=\"dataframe\">\n",
       "  <thead>\n",
       "    <tr style=\"text-align: right;\">\n",
       "      <th></th>\n",
       "      <th>CRIM</th>\n",
       "      <th>ZN</th>\n",
       "      <th>INDUS</th>\n",
       "      <th>CHAS</th>\n",
       "      <th>NOX</th>\n",
       "      <th>RM</th>\n",
       "      <th>AGE</th>\n",
       "      <th>DIS</th>\n",
       "      <th>RAD</th>\n",
       "      <th>TAX</th>\n",
       "      <th>PTRATIO</th>\n",
       "      <th>B</th>\n",
       "      <th>LSTAT</th>\n",
       "    </tr>\n",
       "  </thead>\n",
       "  <tbody>\n",
       "    <tr>\n",
       "      <th>0</th>\n",
       "      <td>0.00632</td>\n",
       "      <td>18.0</td>\n",
       "      <td>2.31</td>\n",
       "      <td>0.0</td>\n",
       "      <td>0.538</td>\n",
       "      <td>6.575</td>\n",
       "      <td>65.2</td>\n",
       "      <td>4.0900</td>\n",
       "      <td>1</td>\n",
       "      <td>296.0</td>\n",
       "      <td>15.3</td>\n",
       "      <td>396.90</td>\n",
       "      <td>4.98</td>\n",
       "    </tr>\n",
       "    <tr>\n",
       "      <th>1</th>\n",
       "      <td>0.02731</td>\n",
       "      <td>0.0</td>\n",
       "      <td>7.07</td>\n",
       "      <td>0.0</td>\n",
       "      <td>0.469</td>\n",
       "      <td>6.421</td>\n",
       "      <td>78.9</td>\n",
       "      <td>4.9671</td>\n",
       "      <td>2</td>\n",
       "      <td>242.0</td>\n",
       "      <td>17.8</td>\n",
       "      <td>396.90</td>\n",
       "      <td>9.14</td>\n",
       "    </tr>\n",
       "    <tr>\n",
       "      <th>2</th>\n",
       "      <td>0.02729</td>\n",
       "      <td>0.0</td>\n",
       "      <td>7.07</td>\n",
       "      <td>0.0</td>\n",
       "      <td>0.469</td>\n",
       "      <td>7.185</td>\n",
       "      <td>61.1</td>\n",
       "      <td>4.9671</td>\n",
       "      <td>2</td>\n",
       "      <td>242.0</td>\n",
       "      <td>17.8</td>\n",
       "      <td>392.83</td>\n",
       "      <td>4.03</td>\n",
       "    </tr>\n",
       "    <tr>\n",
       "      <th>3</th>\n",
       "      <td>0.03237</td>\n",
       "      <td>0.0</td>\n",
       "      <td>2.18</td>\n",
       "      <td>0.0</td>\n",
       "      <td>0.458</td>\n",
       "      <td>6.998</td>\n",
       "      <td>45.8</td>\n",
       "      <td>6.0622</td>\n",
       "      <td>3</td>\n",
       "      <td>222.0</td>\n",
       "      <td>18.7</td>\n",
       "      <td>394.63</td>\n",
       "      <td>2.94</td>\n",
       "    </tr>\n",
       "    <tr>\n",
       "      <th>4</th>\n",
       "      <td>0.06905</td>\n",
       "      <td>0.0</td>\n",
       "      <td>2.18</td>\n",
       "      <td>0.0</td>\n",
       "      <td>0.458</td>\n",
       "      <td>7.147</td>\n",
       "      <td>54.2</td>\n",
       "      <td>6.0622</td>\n",
       "      <td>3</td>\n",
       "      <td>222.0</td>\n",
       "      <td>18.7</td>\n",
       "      <td>396.90</td>\n",
       "      <td>5.33</td>\n",
       "    </tr>\n",
       "  </tbody>\n",
       "</table>\n",
       "</div>"
      ],
      "text/plain": [
       "      CRIM    ZN  INDUS  CHAS    NOX     RM   AGE     DIS  RAD    TAX  \\\n",
       "0  0.00632  18.0   2.31   0.0  0.538  6.575  65.2  4.0900    1  296.0   \n",
       "1  0.02731   0.0   7.07   0.0  0.469  6.421  78.9  4.9671    2  242.0   \n",
       "2  0.02729   0.0   7.07   0.0  0.469  7.185  61.1  4.9671    2  242.0   \n",
       "3  0.03237   0.0   2.18   0.0  0.458  6.998  45.8  6.0622    3  222.0   \n",
       "4  0.06905   0.0   2.18   0.0  0.458  7.147  54.2  6.0622    3  222.0   \n",
       "\n",
       "   PTRATIO       B  LSTAT  \n",
       "0     15.3  396.90   4.98  \n",
       "1     17.8  396.90   9.14  \n",
       "2     17.8  392.83   4.03  \n",
       "3     18.7  394.63   2.94  \n",
       "4     18.7  396.90   5.33  "
      ]
     },
     "execution_count": 8,
     "metadata": {},
     "output_type": "execute_result"
    }
   ],
   "source": [
    "x.head()"
   ]
  },
  {
   "cell_type": "code",
   "execution_count": 9,
   "metadata": {},
   "outputs": [
    {
     "data": {
      "text/plain": [
       "0    24.0\n",
       "1    21.6\n",
       "2    34.7\n",
       "3    33.4\n",
       "4    36.2\n",
       "Name: MEDV, dtype: float64"
      ]
     },
     "execution_count": 9,
     "metadata": {},
     "output_type": "execute_result"
    }
   ],
   "source": [
    "y.head()"
   ]
  },
  {
   "cell_type": "markdown",
   "metadata": {},
   "source": [
    "# Creating the Training Set and the Test Set"
   ]
  },
  {
   "cell_type": "code",
   "execution_count": 10,
   "metadata": {
    "collapsed": true
   },
   "outputs": [],
   "source": [
    "from sklearn.model_selection import train_test_split\n",
    "x_train, x_test, y_train, y_test = train_test_split(x,y,test_size=0.25,random_state=0 )"
   ]
  },
  {
   "cell_type": "code",
   "execution_count": 11,
   "metadata": {},
   "outputs": [
    {
     "data": {
      "text/html": [
       "<div>\n",
       "<style>\n",
       "    .dataframe thead tr:only-child th {\n",
       "        text-align: right;\n",
       "    }\n",
       "\n",
       "    .dataframe thead th {\n",
       "        text-align: left;\n",
       "    }\n",
       "\n",
       "    .dataframe tbody tr th {\n",
       "        vertical-align: top;\n",
       "    }\n",
       "</style>\n",
       "<table border=\"1\" class=\"dataframe\">\n",
       "  <thead>\n",
       "    <tr style=\"text-align: right;\">\n",
       "      <th></th>\n",
       "      <th>CRIM</th>\n",
       "      <th>ZN</th>\n",
       "      <th>INDUS</th>\n",
       "      <th>CHAS</th>\n",
       "      <th>NOX</th>\n",
       "      <th>RM</th>\n",
       "      <th>AGE</th>\n",
       "      <th>DIS</th>\n",
       "      <th>RAD</th>\n",
       "      <th>TAX</th>\n",
       "      <th>PTRATIO</th>\n",
       "      <th>B</th>\n",
       "      <th>LSTAT</th>\n",
       "    </tr>\n",
       "  </thead>\n",
       "  <tbody>\n",
       "    <tr>\n",
       "      <th>245</th>\n",
       "      <td>0.19133</td>\n",
       "      <td>22.0</td>\n",
       "      <td>5.86</td>\n",
       "      <td>0.000</td>\n",
       "      <td>0.431</td>\n",
       "      <td>5.605</td>\n",
       "      <td>70.2000</td>\n",
       "      <td>7.9549</td>\n",
       "      <td>7</td>\n",
       "      <td>330.0</td>\n",
       "      <td>19.100000</td>\n",
       "      <td>389.13</td>\n",
       "      <td>18.46</td>\n",
       "    </tr>\n",
       "    <tr>\n",
       "      <th>59</th>\n",
       "      <td>0.10328</td>\n",
       "      <td>25.0</td>\n",
       "      <td>5.13</td>\n",
       "      <td>0.000</td>\n",
       "      <td>0.453</td>\n",
       "      <td>5.927</td>\n",
       "      <td>47.2000</td>\n",
       "      <td>6.9320</td>\n",
       "      <td>8</td>\n",
       "      <td>284.0</td>\n",
       "      <td>19.700000</td>\n",
       "      <td>396.90</td>\n",
       "      <td>9.22</td>\n",
       "    </tr>\n",
       "    <tr>\n",
       "      <th>276</th>\n",
       "      <td>0.10469</td>\n",
       "      <td>40.0</td>\n",
       "      <td>6.41</td>\n",
       "      <td>1.000</td>\n",
       "      <td>0.447</td>\n",
       "      <td>7.267</td>\n",
       "      <td>49.0000</td>\n",
       "      <td>4.7872</td>\n",
       "      <td>4</td>\n",
       "      <td>254.0</td>\n",
       "      <td>17.600000</td>\n",
       "      <td>389.25</td>\n",
       "      <td>6.05</td>\n",
       "    </tr>\n",
       "    <tr>\n",
       "      <th>395</th>\n",
       "      <td>8.71675</td>\n",
       "      <td>0.0</td>\n",
       "      <td>18.10</td>\n",
       "      <td>0.000</td>\n",
       "      <td>0.693</td>\n",
       "      <td>6.471</td>\n",
       "      <td>98.8000</td>\n",
       "      <td>1.7257</td>\n",
       "      <td>24</td>\n",
       "      <td>666.0</td>\n",
       "      <td>20.200000</td>\n",
       "      <td>391.98</td>\n",
       "      <td>17.12</td>\n",
       "    </tr>\n",
       "    <tr>\n",
       "      <th>416</th>\n",
       "      <td>0.00000</td>\n",
       "      <td>18.1</td>\n",
       "      <td>0.00</td>\n",
       "      <td>0.679</td>\n",
       "      <td>6.782</td>\n",
       "      <td>90.800</td>\n",
       "      <td>1.8195</td>\n",
       "      <td>24.0000</td>\n",
       "      <td>666</td>\n",
       "      <td>20.2</td>\n",
       "      <td>18.247124</td>\n",
       "      <td>21.57</td>\n",
       "      <td>25.79</td>\n",
       "    </tr>\n",
       "  </tbody>\n",
       "</table>\n",
       "</div>"
      ],
      "text/plain": [
       "        CRIM    ZN  INDUS   CHAS    NOX      RM      AGE      DIS  RAD    TAX  \\\n",
       "245  0.19133  22.0   5.86  0.000  0.431   5.605  70.2000   7.9549    7  330.0   \n",
       "59   0.10328  25.0   5.13  0.000  0.453   5.927  47.2000   6.9320    8  284.0   \n",
       "276  0.10469  40.0   6.41  1.000  0.447   7.267  49.0000   4.7872    4  254.0   \n",
       "395  8.71675   0.0  18.10  0.000  0.693   6.471  98.8000   1.7257   24  666.0   \n",
       "416  0.00000  18.1   0.00  0.679  6.782  90.800   1.8195  24.0000  666   20.2   \n",
       "\n",
       "       PTRATIO       B  LSTAT  \n",
       "245  19.100000  389.13  18.46  \n",
       "59   19.700000  396.90   9.22  \n",
       "276  17.600000  389.25   6.05  \n",
       "395  20.200000  391.98  17.12  \n",
       "416  18.247124   21.57  25.79  "
      ]
     },
     "execution_count": 11,
     "metadata": {},
     "output_type": "execute_result"
    }
   ],
   "source": [
    "x_train.head()"
   ]
  },
  {
   "cell_type": "code",
   "execution_count": 12,
   "metadata": {},
   "outputs": [
    {
     "data": {
      "text/plain": [
       "245    18.5\n",
       "59     19.6\n",
       "276    33.2\n",
       "395    13.1\n",
       "416     7.5\n",
       "Name: MEDV, dtype: float64"
      ]
     },
     "execution_count": 12,
     "metadata": {},
     "output_type": "execute_result"
    }
   ],
   "source": [
    "y_train.head()"
   ]
  },
  {
   "cell_type": "markdown",
   "metadata": {},
   "source": [
    "# Building a Linear Regression Model and predicting the values of MEDV field"
   ]
  },
  {
   "cell_type": "code",
   "execution_count": 13,
   "metadata": {},
   "outputs": [
    {
     "data": {
      "text/plain": [
       "LinearRegression(copy_X=True, fit_intercept=True, n_jobs=1, normalize=False)"
      ]
     },
     "execution_count": 13,
     "metadata": {},
     "output_type": "execute_result"
    }
   ],
   "source": [
    "from sklearn.linear_model import LinearRegression\n",
    "regressor = LinearRegression()\n",
    "regressor.fit(x_train,y_train)"
   ]
  },
  {
   "cell_type": "code",
   "execution_count": 14,
   "metadata": {
    "collapsed": true
   },
   "outputs": [],
   "source": [
    "y_pred=regressor.predict(x_test)"
   ]
  },
  {
   "cell_type": "code",
   "execution_count": 15,
   "metadata": {},
   "outputs": [
    {
     "data": {
      "text/plain": [
       "array([  5.32496547e-02,   6.41432576e-02,  -1.46003279e-01,\n",
       "         2.89203201e+00,  -4.27132968e+00,   1.66718931e-01,\n",
       "         4.88248860e-03,  -1.58201145e+00,   4.93646096e-02,\n",
       "        -5.87785600e-03,  -8.94731041e-01,   3.43875022e-03,\n",
       "        -8.44333554e-01])"
      ]
     },
     "execution_count": 15,
     "metadata": {},
     "output_type": "execute_result"
    }
   ],
   "source": [
    "regressor.coef_"
   ]
  },
  {
   "cell_type": "code",
   "execution_count": 16,
   "metadata": {},
   "outputs": [
    {
     "data": {
      "text/plain": [
       "58.00696835444527"
      ]
     },
     "execution_count": 16,
     "metadata": {},
     "output_type": "execute_result"
    }
   ],
   "source": [
    "regressor.intercept_"
   ]
  },
  {
   "cell_type": "code",
   "execution_count": 17,
   "metadata": {},
   "outputs": [
    {
     "name": "stdout",
     "output_type": "stream",
     "text": [
      "R-Squared = 0.530666653775\n"
     ]
    }
   ],
   "source": [
    "from sklearn.metrics import r2_score\n",
    "r2=r2_score(y_test,y_pred)\n",
    "print(\"R-Squared = \" + str(r2))"
   ]
  },
  {
   "cell_type": "markdown",
   "metadata": {},
   "source": [
    "R-Squared for the linear regression model comes out to be 0.53 which means that all the independent variables put together only explain ~53% of the dependent variable MEDV.\n",
    "\n",
    "To improve the predictability of this linear model we will need to apply Feature Selection technique to only select the features that explain the dependent variable considerably and leave out the rest.\n",
    "\n",
    "First of all trying to implement Feature Selection method using Filtering method (which inherently uses Pearson Corelation co-efficient)"
   ]
  },
  {
   "cell_type": "code",
   "execution_count": 18,
   "metadata": {},
   "outputs": [
    {
     "name": "stdout",
     "output_type": "stream",
     "text": [
      "             CRIM        ZN     INDUS      CHAS       NOX        RM       AGE  \\\n",
      "CRIM     1.000000 -0.288969  0.586719 -0.067536 -0.139448 -0.185045  0.462470   \n",
      "ZN      -0.288969  1.000000 -0.491587 -0.005843  0.038450  0.078721 -0.488006   \n",
      "INDUS    0.586719 -0.491587  1.000000 -0.185873 -0.394483 -0.448809  0.700699   \n",
      "CHAS    -0.067536 -0.005843 -0.185873  1.000000  0.585243  0.585447 -0.269616   \n",
      "NOX     -0.139448  0.038450 -0.394483  0.585243  1.000000  0.975767 -0.550065   \n",
      "RM      -0.185045  0.078721 -0.448809  0.585447  0.975767  1.000000 -0.595786   \n",
      "AGE      0.462470 -0.488006  0.700699 -0.269616 -0.550065 -0.595786  1.000000   \n",
      "DIS     -0.312843  0.268317 -0.605973  0.523772  0.923503  0.946946 -0.744068   \n",
      "RAD     -0.151996  0.062767 -0.427834  0.587673  0.985957  0.992620 -0.585574   \n",
      "TAX      0.754362 -0.256799  0.748951 -0.347552 -0.570346 -0.610962  0.635697   \n",
      "PTRATIO  0.314074 -0.363174  0.284308 -0.080543  0.006757 -0.007736  0.154933   \n",
      "B       -0.211774  0.076344 -0.016048 -0.236680 -0.445701 -0.406533  0.120724   \n",
      "LSTAT    0.250337 -0.298686  0.194509  0.287212  0.490864  0.485595  0.081914   \n",
      "MEDV    -0.184529  0.271670 -0.163704 -0.117313 -0.396846 -0.367029  0.010650   \n",
      "\n",
      "              DIS       RAD       TAX   PTRATIO         B     LSTAT      MEDV  \n",
      "CRIM    -0.312843 -0.151996  0.754362  0.314074 -0.211774  0.250337 -0.184529  \n",
      "ZN       0.268317  0.062767 -0.256799 -0.363174  0.076344 -0.298686  0.271670  \n",
      "INDUS   -0.605973 -0.427834  0.748951  0.284308 -0.016048  0.194509 -0.163704  \n",
      "CHAS     0.523772  0.587673 -0.347552 -0.080543 -0.236680  0.287212 -0.117313  \n",
      "NOX      0.923503  0.985957 -0.570346  0.006757 -0.445701  0.490864 -0.396846  \n",
      "RM       0.946946  0.992620 -0.610962 -0.007736 -0.406533  0.485595 -0.367029  \n",
      "AGE     -0.744068 -0.585574  0.635697  0.154933  0.120724  0.081914  0.010650  \n",
      "DIS      1.000000  0.947606 -0.689224 -0.046443 -0.346583  0.362474 -0.326820  \n",
      "RAD      0.947606  1.000000 -0.586540  0.013571 -0.425725  0.499727 -0.390087  \n",
      "TAX     -0.689224 -0.586540  1.000000  0.304357  0.048776 -0.035171 -0.013501  \n",
      "PTRATIO -0.046443  0.013571  0.304357  1.000000 -0.063589  0.246896 -0.417446  \n",
      "B       -0.346583 -0.425725  0.048776 -0.063589  1.000000 -0.366087  0.333461  \n",
      "LSTAT    0.362474  0.499727 -0.035171  0.246896 -0.366087  1.000000 -0.737663  \n",
      "MEDV    -0.326820 -0.390087 -0.013501 -0.417446  0.333461 -0.737663  1.000000  \n"
     ]
    }
   ],
   "source": [
    "corr1=df.corr()\n",
    "print(corr1)"
   ]
  },
  {
   "cell_type": "code",
   "execution_count": 19,
   "metadata": {},
   "outputs": [
    {
     "data": {
      "image/png": "[encoded data removed]",
      "text/plain": [
       "<matplotlib.figure.Figure at 0x1bd95bb1ac8>"
      ]
     },
     "metadata": {},
     "output_type": "display_data"
    }
   ],
   "source": [
    "plt.figure(figsize=(12,10))\n",
    "cor = df.corr()\n",
    "sns.heatmap(cor, annot=True, cmap=plt.cm.Reds)\n",
    "plt.show()"
   ]
  },
  {
   "cell_type": "code",
   "execution_count": 20,
   "metadata": {},
   "outputs": [
    {
     "name": "stdout",
     "output_type": "stream",
     "text": [
      "LSTAT    0.737663\n",
      "MEDV     1.000000\n",
      "Name: MEDV, dtype: float64\n"
     ]
    }
   ],
   "source": [
    "cols = abs(cor[\"MEDV\"])\n",
    "selected_features = cols[cols>0.5]\n",
    "print(selected_features)"
   ]
  },
  {
   "cell_type": "markdown",
   "metadata": {},
   "source": [
    "What I found here is that the feature LSTAT has a very high co-relation co-efficient for MEDV. This could be the feature that explains the dependent variable the most. I will need to find out by creating another linear regression model using just LSTAT as the independent variable and MEDV as the dependent variable."
   ]
  },
  {
   "cell_type": "code",
   "execution_count": 21,
   "metadata": {
    "collapsed": true
   },
   "outputs": [],
   "source": [
    "x=df.iloc[:,12:13]\n",
    "y=df.iloc[:,13]"
   ]
  },
  {
   "cell_type": "code",
   "execution_count": 22,
   "metadata": {
    "collapsed": true
   },
   "outputs": [],
   "source": [
    "x_train, x_test, y_train, y_test = train_test_split(x,y,test_size=0.25,random_state=0 )"
   ]
  },
  {
   "cell_type": "code",
   "execution_count": 23,
   "metadata": {},
   "outputs": [
    {
     "data": {
      "text/plain": [
       "LinearRegression(copy_X=True, fit_intercept=True, n_jobs=1, normalize=False)"
      ]
     },
     "execution_count": 23,
     "metadata": {},
     "output_type": "execute_result"
    }
   ],
   "source": [
    "regressor.fit(x_train,y_train)"
   ]
  },
  {
   "cell_type": "code",
   "execution_count": 24,
   "metadata": {
    "collapsed": true
   },
   "outputs": [],
   "source": [
    "y_pred1=regressor.predict(x_test)"
   ]
  },
  {
   "cell_type": "code",
   "execution_count": 25,
   "metadata": {},
   "outputs": [
    {
     "name": "stdout",
     "output_type": "stream",
     "text": [
      "0.457639361556\n"
     ]
    }
   ],
   "source": [
    "r2=r2_score(y_test,y_pred1)\n",
    "print(r2)"
   ]
  },
  {
   "cell_type": "markdown",
   "metadata": {},
   "source": [
    "What we observe here is that feature selection using the filtering method resulted in even lower R-squared values. So, this model is worse in comparison to the one we created without applying feature selection technique."
   ]
  },
  {
   "cell_type": "markdown",
   "metadata": {},
   "source": [
    "Feature selection using Backwars Elimination method: Using R-Squared, Adj R-Squared values and P-Value."
   ]
  },
  {
   "cell_type": "code",
   "execution_count": 26,
   "metadata": {
    "collapsed": true
   },
   "outputs": [],
   "source": [
    "x=df.iloc[:,[0,1,2,3,4,5,6,7,8,9,10,11,12]]\n",
    "y=df.iloc[:,13]"
   ]
  },
  {
   "cell_type": "code",
   "execution_count": 27,
   "metadata": {
    "collapsed": true
   },
   "outputs": [],
   "source": [
    "import statsmodels.formula.api as sm\n",
    "x=np.append(arr=np.ones((506,1)).astype(int),values=x,axis=1)\n",
    "x_opt=x[:,[0,2,3,4,5,6,8,12]]\n",
    "regressor_ols=sm.OLS(endog=y,exog=x_opt).fit()"
   ]
  },
  {
   "cell_type": "code",
   "execution_count": 28,
   "metadata": {},
   "outputs": [
    {
     "data": {
      "text/html": [
       "<table class=\"simpletable\">\n",
       "<caption>OLS Regression Results</caption>\n",
       "<tr>\n",
       "  <th>Dep. Variable:</th>          <td>MEDV</td>       <th>  R-squared:         </th> <td>   0.408</td>\n",
       "</tr>\n",
       "<tr>\n",
       "  <th>Model:</th>                   <td>OLS</td>       <th>  Adj. R-squared:    </th> <td>   0.399</td>\n",
       "</tr>\n",
       "<tr>\n",
       "  <th>Method:</th>             <td>Least Squares</td>  <th>  F-statistic:       </th> <td>   48.97</td>\n",
       "</tr>\n",
       "<tr>\n",
       "  <th>Date:</th>             <td>Wed, 11 Sep 2019</td> <th>  Prob (F-statistic):</th> <td>7.50e-53</td>\n",
       "</tr>\n",
       "<tr>\n",
       "  <th>Time:</th>                 <td>17:04:16</td>     <th>  Log-Likelihood:    </th> <td> -1707.7</td>\n",
       "</tr>\n",
       "<tr>\n",
       "  <th>No. Observations:</th>      <td>   506</td>      <th>  AIC:               </th> <td>   3431.</td>\n",
       "</tr>\n",
       "<tr>\n",
       "  <th>Df Residuals:</th>          <td>   498</td>      <th>  BIC:               </th> <td>   3465.</td>\n",
       "</tr>\n",
       "<tr>\n",
       "  <th>Df Model:</th>              <td>     7</td>      <th>                     </th>     <td> </td>   \n",
       "</tr>\n",
       "<tr>\n",
       "  <th>Covariance Type:</th>      <td>nonrobust</td>    <th>                     </th>     <td> </td>   \n",
       "</tr>\n",
       "</table>\n",
       "<table class=\"simpletable\">\n",
       "<tr>\n",
       "    <td></td>       <th>coef</th>     <th>std err</th>      <th>t</th>      <th>P>|t|</th>  <th>[0.025</th>    <th>0.975]</th>  \n",
       "</tr>\n",
       "<tr>\n",
       "  <th>const</th> <td>   30.2994</td> <td>    2.035</td> <td>   14.890</td> <td> 0.000</td> <td>   26.301</td> <td>   34.297</td>\n",
       "</tr>\n",
       "<tr>\n",
       "  <th>x1</th>    <td>    0.1240</td> <td>    0.018</td> <td>    6.888</td> <td> 0.000</td> <td>    0.089</td> <td>    0.159</td>\n",
       "</tr>\n",
       "<tr>\n",
       "  <th>x2</th>    <td>   -0.6466</td> <td>    0.068</td> <td>   -9.489</td> <td> 0.000</td> <td>   -0.780</td> <td>   -0.513</td>\n",
       "</tr>\n",
       "<tr>\n",
       "  <th>x3</th>    <td>    5.1226</td> <td>    1.266</td> <td>    4.048</td> <td> 0.000</td> <td>    2.636</td> <td>    7.609</td>\n",
       "</tr>\n",
       "<tr>\n",
       "  <th>x4</th>    <td>   -0.2683</td> <td>    0.953</td> <td>   -0.282</td> <td> 0.778</td> <td>   -2.140</td> <td>    1.603</td>\n",
       "</tr>\n",
       "<tr>\n",
       "  <th>x5</th>    <td>    0.1906</td> <td>    0.066</td> <td>    2.894</td> <td> 0.004</td> <td>    0.061</td> <td>    0.320</td>\n",
       "</tr>\n",
       "<tr>\n",
       "  <th>x6</th>    <td>   -1.7847</td> <td>    0.223</td> <td>   -7.993</td> <td> 0.000</td> <td>   -2.223</td> <td>   -1.346</td>\n",
       "</tr>\n",
       "<tr>\n",
       "  <th>x7</th>    <td>    0.0116</td> <td>    0.004</td> <td>    2.896</td> <td> 0.004</td> <td>    0.004</td> <td>    0.019</td>\n",
       "</tr>\n",
       "</table>\n",
       "<table class=\"simpletable\">\n",
       "<tr>\n",
       "  <th>Omnibus:</th>       <td>151.223</td> <th>  Durbin-Watson:     </th> <td>   0.916</td>\n",
       "</tr>\n",
       "<tr>\n",
       "  <th>Prob(Omnibus):</th> <td> 0.000</td>  <th>  Jarque-Bera (JB):  </th> <td> 396.571</td>\n",
       "</tr>\n",
       "<tr>\n",
       "  <th>Skew:</th>          <td> 1.482</td>  <th>  Prob(JB):          </th> <td>7.69e-87</td>\n",
       "</tr>\n",
       "<tr>\n",
       "  <th>Kurtosis:</th>      <td> 6.166</td>  <th>  Cond. No.          </th> <td>2.37e+03</td>\n",
       "</tr>\n",
       "</table>"
      ],
      "text/plain": [
       "<class 'statsmodels.iolib.summary.Summary'>\n",
       "\"\"\"\n",
       "                            OLS Regression Results                            \n",
       "==============================================================================\n",
       "Dep. Variable:                   MEDV   R-squared:                       0.408\n",
       "Model:                            OLS   Adj. R-squared:                  0.399\n",
       "Method:                 Least Squares   F-statistic:                     48.97\n",
       "Date:                Wed, 11 Sep 2019   Prob (F-statistic):           7.50e-53\n",
       "Time:                        17:04:16   Log-Likelihood:                -1707.7\n",
       "No. Observations:                 506   AIC:                             3431.\n",
       "Df Residuals:                     498   BIC:                             3465.\n",
       "Df Model:                           7                                         \n",
       "Covariance Type:            nonrobust                                         \n",
       "==============================================================================\n",
       "                 coef    std err          t      P>|t|      [0.025      0.975]\n",
       "------------------------------------------------------------------------------\n",
       "const         30.2994      2.035     14.890      0.000      26.301      34.297\n",
       "x1             0.1240      0.018      6.888      0.000       0.089       0.159\n",
       "x2            -0.6466      0.068     -9.489      0.000      -0.780      -0.513\n",
       "x3             5.1226      1.266      4.048      0.000       2.636       7.609\n",
       "x4            -0.2683      0.953     -0.282      0.778      -2.140       1.603\n",
       "x5             0.1906      0.066      2.894      0.004       0.061       0.320\n",
       "x6            -1.7847      0.223     -7.993      0.000      -2.223      -1.346\n",
       "x7             0.0116      0.004      2.896      0.004       0.004       0.019\n",
       "==============================================================================\n",
       "Omnibus:                      151.223   Durbin-Watson:                   0.916\n",
       "Prob(Omnibus):                  0.000   Jarque-Bera (JB):              396.571\n",
       "Skew:                           1.482   Prob(JB):                     7.69e-87\n",
       "Kurtosis:                       6.166   Cond. No.                     2.37e+03\n",
       "==============================================================================\n",
       "\n",
       "Warnings:\n",
       "[1] Standard Errors assume that the covariance matrix of the errors is correctly specified.\n",
       "[2] The condition number is large, 2.37e+03. This might indicate that there are\n",
       "strong multicollinearity or other numerical problems.\n",
       "\"\"\""
      ]
     },
     "execution_count": 28,
     "metadata": {},
     "output_type": "execute_result"
    }
   ],
   "source": [
    "regressor_ols.summary()"
   ]
  },
  {
   "cell_type": "code",
   "execution_count": 29,
   "metadata": {},
   "outputs": [
    {
     "data": {
      "text/plain": [
       "const    9.611517e-42\n",
       "x1       1.716770e-11\n",
       "x2       9.604785e-20\n",
       "x3       5.992328e-05\n",
       "x4       7.783119e-01\n",
       "x5       3.973291e-03\n",
       "x6       9.272671e-15\n",
       "x7       3.947465e-03\n",
       "dtype: float64"
      ]
     },
     "execution_count": 29,
     "metadata": {},
     "output_type": "execute_result"
    }
   ],
   "source": [
    "regressor_ols.pvalues"
   ]
  },
  {
   "cell_type": "code",
   "execution_count": 30,
   "metadata": {
    "collapsed": true
   },
   "outputs": [],
   "source": [
    "x=df.iloc[:,[0,2,3,4,5,6,8,12]]\n",
    "y=df.iloc[:,13]"
   ]
  },
  {
   "cell_type": "code",
   "execution_count": 31,
   "metadata": {
    "collapsed": true
   },
   "outputs": [],
   "source": [
    "x_train, x_test, y_train, y_test = train_test_split(x,y,test_size=1/3,random_state=0 )\n",
    "regressor.fit(x_train,y_train)\n",
    "y_pred=regressor.predict(x_test)"
   ]
  },
  {
   "cell_type": "code",
   "execution_count": 32,
   "metadata": {},
   "outputs": [
    {
     "name": "stdout",
     "output_type": "stream",
     "text": [
      "0.520440708106\n"
     ]
    }
   ],
   "source": [
    "r2=r2_score(y_test,y_pred)\n",
    "print(r2)"
   ]
  },
  {
   "cell_type": "markdown",
   "metadata": {},
   "source": [
    "check for multicollinearity"
   ]
  },
  {
   "cell_type": "code",
   "execution_count": 33,
   "metadata": {},
   "outputs": [
    {
     "data": {
      "text/html": [
       "<div>\n",
       "<style>\n",
       "    .dataframe thead tr:only-child th {\n",
       "        text-align: right;\n",
       "    }\n",
       "\n",
       "    .dataframe thead th {\n",
       "        text-align: left;\n",
       "    }\n",
       "\n",
       "    .dataframe tbody tr th {\n",
       "        vertical-align: top;\n",
       "    }\n",
       "</style>\n",
       "<table border=\"1\" class=\"dataframe\">\n",
       "  <thead>\n",
       "    <tr style=\"text-align: right;\">\n",
       "      <th></th>\n",
       "      <th>CRIM</th>\n",
       "      <th>INDUS</th>\n",
       "      <th>CHAS</th>\n",
       "      <th>NOX</th>\n",
       "      <th>RM</th>\n",
       "      <th>AGE</th>\n",
       "      <th>RAD</th>\n",
       "      <th>LSTAT</th>\n",
       "    </tr>\n",
       "  </thead>\n",
       "  <tbody>\n",
       "    <tr>\n",
       "      <th>CRIM</th>\n",
       "      <td>1.000000</td>\n",
       "      <td>0.586719</td>\n",
       "      <td>-0.067536</td>\n",
       "      <td>-0.139448</td>\n",
       "      <td>-0.185045</td>\n",
       "      <td>0.462470</td>\n",
       "      <td>-0.151996</td>\n",
       "      <td>0.250337</td>\n",
       "    </tr>\n",
       "    <tr>\n",
       "      <th>INDUS</th>\n",
       "      <td>0.586719</td>\n",
       "      <td>1.000000</td>\n",
       "      <td>-0.185873</td>\n",
       "      <td>-0.394483</td>\n",
       "      <td>-0.448809</td>\n",
       "      <td>0.700699</td>\n",
       "      <td>-0.427834</td>\n",
       "      <td>0.194509</td>\n",
       "    </tr>\n",
       "    <tr>\n",
       "      <th>CHAS</th>\n",
       "      <td>-0.067536</td>\n",
       "      <td>-0.185873</td>\n",
       "      <td>1.000000</td>\n",
       "      <td>0.585243</td>\n",
       "      <td>0.585447</td>\n",
       "      <td>-0.269616</td>\n",
       "      <td>0.587673</td>\n",
       "      <td>0.287212</td>\n",
       "    </tr>\n",
       "    <tr>\n",
       "      <th>NOX</th>\n",
       "      <td>-0.139448</td>\n",
       "      <td>-0.394483</td>\n",
       "      <td>0.585243</td>\n",
       "      <td>1.000000</td>\n",
       "      <td>0.975767</td>\n",
       "      <td>-0.550065</td>\n",
       "      <td>0.985957</td>\n",
       "      <td>0.490864</td>\n",
       "    </tr>\n",
       "    <tr>\n",
       "      <th>RM</th>\n",
       "      <td>-0.185045</td>\n",
       "      <td>-0.448809</td>\n",
       "      <td>0.585447</td>\n",
       "      <td>0.975767</td>\n",
       "      <td>1.000000</td>\n",
       "      <td>-0.595786</td>\n",
       "      <td>0.992620</td>\n",
       "      <td>0.485595</td>\n",
       "    </tr>\n",
       "    <tr>\n",
       "      <th>AGE</th>\n",
       "      <td>0.462470</td>\n",
       "      <td>0.700699</td>\n",
       "      <td>-0.269616</td>\n",
       "      <td>-0.550065</td>\n",
       "      <td>-0.595786</td>\n",
       "      <td>1.000000</td>\n",
       "      <td>-0.585574</td>\n",
       "      <td>0.081914</td>\n",
       "    </tr>\n",
       "    <tr>\n",
       "      <th>RAD</th>\n",
       "      <td>-0.151996</td>\n",
       "      <td>-0.427834</td>\n",
       "      <td>0.587673</td>\n",
       "      <td>0.985957</td>\n",
       "      <td>0.992620</td>\n",
       "      <td>-0.585574</td>\n",
       "      <td>1.000000</td>\n",
       "      <td>0.499727</td>\n",
       "    </tr>\n",
       "    <tr>\n",
       "      <th>LSTAT</th>\n",
       "      <td>0.250337</td>\n",
       "      <td>0.194509</td>\n",
       "      <td>0.287212</td>\n",
       "      <td>0.490864</td>\n",
       "      <td>0.485595</td>\n",
       "      <td>0.081914</td>\n",
       "      <td>0.499727</td>\n",
       "      <td>1.000000</td>\n",
       "    </tr>\n",
       "  </tbody>\n",
       "</table>\n",
       "</div>"
      ],
      "text/plain": [
       "           CRIM     INDUS      CHAS       NOX        RM       AGE       RAD  \\\n",
       "CRIM   1.000000  0.586719 -0.067536 -0.139448 -0.185045  0.462470 -0.151996   \n",
       "INDUS  0.586719  1.000000 -0.185873 -0.394483 -0.448809  0.700699 -0.427834   \n",
       "CHAS  -0.067536 -0.185873  1.000000  0.585243  0.585447 -0.269616  0.587673   \n",
       "NOX   -0.139448 -0.394483  0.585243  1.000000  0.975767 -0.550065  0.985957   \n",
       "RM    -0.185045 -0.448809  0.585447  0.975767  1.000000 -0.595786  0.992620   \n",
       "AGE    0.462470  0.700699 -0.269616 -0.550065 -0.595786  1.000000 -0.585574   \n",
       "RAD   -0.151996 -0.427834  0.587673  0.985957  0.992620 -0.585574  1.000000   \n",
       "LSTAT  0.250337  0.194509  0.287212  0.490864  0.485595  0.081914  0.499727   \n",
       "\n",
       "          LSTAT  \n",
       "CRIM   0.250337  \n",
       "INDUS  0.194509  \n",
       "CHAS   0.287212  \n",
       "NOX    0.490864  \n",
       "RM     0.485595  \n",
       "AGE    0.081914  \n",
       "RAD    0.499727  \n",
       "LSTAT  1.000000  "
      ]
     },
     "execution_count": 33,
     "metadata": {},
     "output_type": "execute_result"
    }
   ],
   "source": [
    "x.corr()"
   ]
  },
  {
   "cell_type": "markdown",
   "metadata": {},
   "source": [
    "Checking for Multicollinearilty"
   ]
  },
  {
   "cell_type": "code",
   "execution_count": 34,
   "metadata": {
    "collapsed": true
   },
   "outputs": [],
   "source": [
    "from statsmodels.stats.outliers_influence import variance_inflation_factor\n",
    "vif = pd.DataFrame()\n",
    "vif[\"VIF Factor\"] = [variance_inflation_factor(x.values, i) for i in range(x.shape[1])]\n",
    "vif[\"features\"] = x.columns"
   ]
  },
  {
   "cell_type": "code",
   "execution_count": 35,
   "metadata": {},
   "outputs": [
    {
     "data": {
      "text/html": [
       "<div>\n",
       "<style>\n",
       "    .dataframe thead tr:only-child th {\n",
       "        text-align: right;\n",
       "    }\n",
       "\n",
       "    .dataframe thead th {\n",
       "        text-align: left;\n",
       "    }\n",
       "\n",
       "    .dataframe tbody tr th {\n",
       "        vertical-align: top;\n",
       "    }\n",
       "</style>\n",
       "<table border=\"1\" class=\"dataframe\">\n",
       "  <thead>\n",
       "    <tr style=\"text-align: right;\">\n",
       "      <th></th>\n",
       "      <th>VIF Factor</th>\n",
       "      <th>features</th>\n",
       "    </tr>\n",
       "  </thead>\n",
       "  <tbody>\n",
       "    <tr>\n",
       "      <th>0</th>\n",
       "      <td>2.148947</td>\n",
       "      <td>CRIM</td>\n",
       "    </tr>\n",
       "    <tr>\n",
       "      <th>1</th>\n",
       "      <td>6.934518</td>\n",
       "      <td>INDUS</td>\n",
       "    </tr>\n",
       "    <tr>\n",
       "      <th>2</th>\n",
       "      <td>1.884903</td>\n",
       "      <td>CHAS</td>\n",
       "    </tr>\n",
       "    <tr>\n",
       "      <th>3</th>\n",
       "      <td>47.227409</td>\n",
       "      <td>NOX</td>\n",
       "    </tr>\n",
       "    <tr>\n",
       "      <th>4</th>\n",
       "      <td>70.254527</td>\n",
       "      <td>RM</td>\n",
       "    </tr>\n",
       "    <tr>\n",
       "      <th>5</th>\n",
       "      <td>10.435292</td>\n",
       "      <td>AGE</td>\n",
       "    </tr>\n",
       "    <tr>\n",
       "      <th>6</th>\n",
       "      <td>95.778386</td>\n",
       "      <td>RAD</td>\n",
       "    </tr>\n",
       "    <tr>\n",
       "      <th>7</th>\n",
       "      <td>8.388358</td>\n",
       "      <td>LSTAT</td>\n",
       "    </tr>\n",
       "  </tbody>\n",
       "</table>\n",
       "</div>"
      ],
      "text/plain": [
       "   VIF Factor features\n",
       "0    2.148947     CRIM\n",
       "1    6.934518    INDUS\n",
       "2    1.884903     CHAS\n",
       "3   47.227409      NOX\n",
       "4   70.254527       RM\n",
       "5   10.435292      AGE\n",
       "6   95.778386      RAD\n",
       "7    8.388358    LSTAT"
      ]
     },
     "execution_count": 35,
     "metadata": {},
     "output_type": "execute_result"
    }
   ],
   "source": [
    "vif"
   ]
  },
  {
   "cell_type": "markdown",
   "metadata": {},
   "source": [
    "# Applying Support Vector Regression Technique\n",
    "This technique is not so commonly used and so it does not automatically auto-scale.\n",
    "Scaling needs to be specifically applied to the data set for applying SVR technique."
   ]
  },
  {
   "cell_type": "markdown",
   "metadata": {},
   "source": [
    "# Applying Random Forest Regression Technique"
   ]
  },
  {
   "cell_type": "code",
   "execution_count": 46,
   "metadata": {
    "collapsed": true
   },
   "outputs": [],
   "source": [
    "x=df.iloc[:,[0,2,3,6,8,12]]\n",
    "y=df.iloc[:,13]"
   ]
  },
  {
   "cell_type": "code",
   "execution_count": 47,
   "metadata": {
    "collapsed": true
   },
   "outputs": [],
   "source": [
    "x_train, x_test, y_train, y_test = train_test_split(x,y,test_size=1/3,random_state=0 )\n",
    "regressor.fit(x_train,y_train)\n",
    "y_pred=regressor.predict(x_test)"
   ]
  },
  {
   "cell_type": "code",
   "execution_count": 48,
   "metadata": {},
   "outputs": [
    {
     "name": "stdout",
     "output_type": "stream",
     "text": [
      "0.663312709948\n"
     ]
    }
   ],
   "source": [
    "r2=r2_score(y_test,y_pred)\n",
    "print(r2)"
   ]
  },
  {
   "cell_type": "markdown",
   "metadata": {},
   "source": [
    "What we see above is that after treating for multicollinearity, even the accuracy of multiple linear regression model increased."
   ]
  },
  {
   "cell_type": "code",
   "execution_count": 49,
   "metadata": {
    "collapsed": true
   },
   "outputs": [],
   "source": [
    "from statsmodels.stats.outliers_influence import variance_inflation_factor\n",
    "vif = pd.DataFrame()\n",
    "vif[\"VIF Factor\"] = [variance_inflation_factor(x.values, i) for i in range(x.shape[1])]\n",
    "vif[\"features\"] = x.columns"
   ]
  },
  {
   "cell_type": "code",
   "execution_count": 50,
   "metadata": {},
   "outputs": [
    {
     "data": {
      "text/html": [
       "<div>\n",
       "<style>\n",
       "    .dataframe thead tr:only-child th {\n",
       "        text-align: right;\n",
       "    }\n",
       "\n",
       "    .dataframe thead th {\n",
       "        text-align: left;\n",
       "    }\n",
       "\n",
       "    .dataframe tbody tr th {\n",
       "        vertical-align: top;\n",
       "    }\n",
       "</style>\n",
       "<table border=\"1\" class=\"dataframe\">\n",
       "  <thead>\n",
       "    <tr style=\"text-align: right;\">\n",
       "      <th></th>\n",
       "      <th>VIF Factor</th>\n",
       "      <th>features</th>\n",
       "    </tr>\n",
       "  </thead>\n",
       "  <tbody>\n",
       "    <tr>\n",
       "      <th>0</th>\n",
       "      <td>1.903824</td>\n",
       "      <td>CRIM</td>\n",
       "    </tr>\n",
       "    <tr>\n",
       "      <th>1</th>\n",
       "      <td>6.742426</td>\n",
       "      <td>INDUS</td>\n",
       "    </tr>\n",
       "    <tr>\n",
       "      <th>2</th>\n",
       "      <td>1.882329</td>\n",
       "      <td>CHAS</td>\n",
       "    </tr>\n",
       "    <tr>\n",
       "      <th>3</th>\n",
       "      <td>7.658880</td>\n",
       "      <td>AGE</td>\n",
       "    </tr>\n",
       "    <tr>\n",
       "      <th>4</th>\n",
       "      <td>4.103643</td>\n",
       "      <td>RAD</td>\n",
       "    </tr>\n",
       "    <tr>\n",
       "      <th>5</th>\n",
       "      <td>8.110726</td>\n",
       "      <td>LSTAT</td>\n",
       "    </tr>\n",
       "  </tbody>\n",
       "</table>\n",
       "</div>"
      ],
      "text/plain": [
       "   VIF Factor features\n",
       "0    1.903824     CRIM\n",
       "1    6.742426    INDUS\n",
       "2    1.882329     CHAS\n",
       "3    7.658880      AGE\n",
       "4    4.103643      RAD\n",
       "5    8.110726    LSTAT"
      ]
     },
     "execution_count": 50,
     "metadata": {},
     "output_type": "execute_result"
    }
   ],
   "source": [
    "vif"
   ]
  },
  {
   "cell_type": "code",
   "execution_count": 55,
   "metadata": {},
   "outputs": [
    {
     "name": "stdout",
     "output_type": "stream",
     "text": [
      "Estimators = 1, R2 = 0.863742832196\n",
      "Estimators = 2, R2 = 0.88642966696\n",
      "Estimators = 3, R2 = 0.893496116233\n",
      "Estimators = 4, R2 = 0.924744807162\n",
      "Estimators = 5, R2 = 0.928635056079\n",
      "Estimators = 6, R2 = 0.937517159518\n",
      "Estimators = 7, R2 = 0.948264507929\n",
      "Estimators = 8, R2 = 0.950460755644\n",
      "Estimators = 9, R2 = 0.953003701139\n",
      "Estimators = 10, R2 = 0.956001464416\n",
      "Estimators = 11, R2 = 0.958180577679\n",
      "Estimators = 12, R2 = 0.957549373818\n",
      "Estimators = 13, R2 = 0.956271193501\n",
      "Estimators = 14, R2 = 0.950620570525\n",
      "Estimators = 15, R2 = 0.952042121599\n",
      "Estimators = 16, R2 = 0.954330722703\n",
      "Estimators = 17, R2 = 0.956043615967\n",
      "Estimators = 18, R2 = 0.95599696883\n",
      "Estimators = 19, R2 = 0.95854587173\n",
      "Estimators = 20, R2 = 0.955593773282\n",
      "Estimators = 21, R2 = 0.956064874062\n",
      "Estimators = 22, R2 = 0.957551923249\n",
      "Estimators = 23, R2 = 0.958408198579\n",
      "Estimators = 24, R2 = 0.958350153029\n",
      "Estimators = 25, R2 = 0.958316353728\n"
     ]
    }
   ],
   "source": [
    "from sklearn.ensemble import RandomForestRegressor\n",
    "\n",
    "for i in range(1, 26):\n",
    "    regressor = RandomForestRegressor(n_estimators = i, random_state = 0)\n",
    "    regressor.fit(x, y)\n",
    "    y_pred=regressor.predict(x_test)\n",
    "    r2=r2_score(y_test,y_pred)\n",
    "    print('Estimators = ' + str(i) + ', R2 = ' + str(r2))"
   ]
  },
  {
   "cell_type": "code",
   "execution_count": 56,
   "metadata": {
    "collapsed": true
   },
   "outputs": [],
   "source": [
    "res=pd.DataFrame()"
   ]
  },
  {
   "cell_type": "code",
   "execution_count": 57,
   "metadata": {},
   "outputs": [
    {
     "name": "stdout",
     "output_type": "stream",
     "text": [
      "     Actual Values  Predicted Values\n",
      "329           22.6            23.712\n",
      "371           50.0            44.656\n",
      "219           23.0            22.068\n",
      "403            8.3            10.356\n",
      "78            21.2            20.940\n",
      "15            19.9            20.320\n",
      "487           20.6            21.212\n",
      "340           18.7            19.868\n",
      "310           16.1            18.268\n",
      "102           18.6            19.496\n",
      "418            8.8             8.824\n",
      "411           17.2            16.324\n",
      "446           14.9            14.528\n",
      "386           10.5             9.936\n",
      "162           50.0            49.336\n",
      "299           29.0            28.528\n",
      "480           23.0            22.432\n",
      "196           33.3            35.988\n",
      "175           29.4            28.676\n",
      "37            21.0            21.216\n",
      "320           23.8            23.900\n",
      "171           19.1            18.800\n",
      "107           20.4            20.148\n",
      "278           29.1            27.600\n",
      "45            19.3            19.988\n",
      "367           23.1            19.228\n",
      "21            19.6            19.172\n",
      "153           19.4            18.148\n",
      "97            38.7            39.988\n",
      "113           18.7            18.504\n",
      "..             ...               ...\n",
      "415            7.2             7.260\n",
      "378           13.1            12.040\n",
      "494           24.5            22.608\n",
      "179           37.2            34.660\n",
      "52            25.0            25.972\n",
      "74            24.1            23.932\n",
      "26            16.6            17.092\n",
      "200           32.9            33.976\n",
      "4             36.2            35.968\n",
      "428           11.0            11.672\n",
      "385            7.2             7.628\n",
      "308           22.8            30.232\n",
      "5             28.7            28.840\n",
      "141           14.4            13.488\n",
      "272           24.4            24.252\n",
      "135           18.1            17.296\n",
      "298           22.5            25.592\n",
      "122           20.5            20.136\n",
      "22            15.2            14.748\n",
      "68            17.4            18.032\n",
      "20            13.6            13.728\n",
      "437            8.7             8.992\n",
      "14            18.2            18.788\n",
      "281           35.4            34.996\n",
      "231           31.7            30.636\n",
      "64            33.0            29.508\n",
      "327           22.2            21.776\n",
      "322           20.4            22.240\n",
      "81            23.9            25.572\n",
      "360           25.0            25.000\n",
      "\n",
      "[169 rows x 2 columns]\n"
     ]
    }
   ],
   "source": [
    "res['Actual Values']=y_test\n",
    "res['Predicted Values']=y_pred\n",
    "print(res)"
   ]
  },
  {
   "cell_type": "code",
   "execution_count": null,
   "metadata": {
    "collapsed": true
   },
   "outputs": [],
   "source": []
  }
 ],
 "metadata": {
  "kernelspec": {
   "display_name": "Python 3",
   "language": "python",
   "name": "python3"
  },
  "language_info": {
   "codemirror_mode": {
    "name": "ipython",
    "version": 3
   },
   "file_extension": ".py",
   "mimetype": "text/x-python",
   "name": "python",
   "nbconvert_exporter": "python",
   "pygments_lexer": "ipython3",
   "version": "3.6.3"
  }
 },
 "nbformat": 4,
 "nbformat_minor": 2
}
